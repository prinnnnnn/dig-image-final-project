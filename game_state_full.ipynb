{
  "cells": [
    {
      "cell_type": "markdown",
      "metadata": {
        "id": "8pEA71vm3fQl"
      },
      "source": [
        "# Mount Drive"
      ]
    },
    {
      "cell_type": "code",
      "execution_count": 1,
      "metadata": {
        "colab": {
          "base_uri": "https://localhost:8080/"
        },
        "id": "f1WiEUhVk6kf",
        "outputId": "b8bf8e2c-c10b-4142-ded9-dcf4dc84bfc7"
      },
      "outputs": [
        {
          "output_type": "stream",
          "name": "stdout",
          "text": [
            "Mounted at /content/drive\n"
          ]
        }
      ],
      "source": [
        "from google.colab import drive\n",
        "drive.mount('/content/drive')"
      ]
    },
    {
      "cell_type": "code",
      "execution_count": 2,
      "metadata": {
        "colab": {
          "base_uri": "https://localhost:8080/"
        },
        "id": "Z-OVC8OllTHP",
        "outputId": "0c7d6c36-2c07-4ea0-b731-15b6be3a9af9"
      },
      "outputs": [
        {
          "output_type": "stream",
          "name": "stdout",
          "text": [
            "2_move_frames\t       4_move_frames  8_move_frames  trials-notebooks\n",
            "2_move_rotated_frames  6_move_frames  runs\n"
          ]
        }
      ],
      "source": [
        "!ls \"/content/drive/MyDrive/Digital Imaging/final-project/\""
      ]
    },
    {
      "cell_type": "code",
      "execution_count": 3,
      "metadata": {
        "id": "locfP9YSJ4Rx"
      },
      "outputs": [],
      "source": [
        "# folder of frames from videoes\n",
        "folder_path = \"/content/drive/MyDrive/Digital Imaging/final-project/4_move_frames\""
      ]
    },
    {
      "cell_type": "code",
      "execution_count": 4,
      "metadata": {
        "id": "GCkdu9SM4u5F"
      },
      "outputs": [],
      "source": [
        "import shutil\n",
        "\n",
        "def save_folder_to_drive(colab_folder_path, drive_folder_path, mount_drive = False):\n",
        "    \"\"\"\n",
        "    Saves a folder from the Colab runtime to a directory in Google Drive.\n",
        "\n",
        "    Args:\n",
        "        colab_folder_path (str): Path to the folder in the Colab runtime.\n",
        "        drive_folder_path (str): Path to the destination folder in Google Drive.\n",
        "\n",
        "    Returns:\n",
        "        str: Message indicating success or error.\n",
        "    \"\"\"\n",
        "    try:\n",
        "        if (mount_drive):\n",
        "            drive.mount('/content/drive')\n",
        "\n",
        "        # Ensure the Google Drive directory exists\n",
        "        full_drive_path = os.path.join('/content/drive/My Drive', drive_folder_path)\n",
        "        if not os.path.exists(full_drive_path):\n",
        "            os.makedirs(full_drive_path)\n",
        "\n",
        "        # Copy the folder from Colab runtime to Google Drive\n",
        "        shutil.copytree(colab_folder_path, os.path.join(full_drive_path, os.path.basename(colab_folder_path)))\n",
        "\n",
        "        return f\"Folder successfully saved to {os.path.join(full_drive_path, os.path.basename(colab_folder_path))}\"\n",
        "    except Exception as e:\n",
        "        return f\"An error occurred: {e}\""
      ]
    },
    {
      "cell_type": "code",
      "execution_count": 5,
      "metadata": {
        "id": "0m2QXDfZJCpH"
      },
      "outputs": [],
      "source": [
        "def get_number_from_file_name(filename: str):\n",
        "    filename = filename.split(\".\")[0][::-1]\n",
        "    res = \"\"\n",
        "\n",
        "    for char in filename:\n",
        "        try:\n",
        "            res += str(int(char))\n",
        "        except:\n",
        "            break\n",
        "\n",
        "    return int(res[::-1])"
      ]
    },
    {
      "cell_type": "markdown",
      "metadata": {
        "id": "SqxZk02imj9P"
      },
      "source": [
        "# Board Mapping"
      ]
    },
    {
      "cell_type": "markdown",
      "metadata": {
        "id": "8GoSRRz1mcBz"
      },
      "source": [
        "## Import Libraries"
      ]
    },
    {
      "cell_type": "code",
      "execution_count": 6,
      "metadata": {
        "id": "zNg_4A5kJ7bw"
      },
      "outputs": [],
      "source": [
        "import math\n",
        "import operator\n",
        "import sys\n",
        "from collections import defaultdict\n",
        "\n",
        "import numpy as np\n",
        "import cv2\n",
        "\n",
        "import scipy.spatial as spatial\n",
        "import scipy.cluster as clstr\n",
        "import matplotlib.pyplot as plt\n",
        "\n",
        "import glob\n",
        "import os\n",
        "\n",
        "from itertools import combinations"
      ]
    },
    {
      "cell_type": "markdown",
      "metadata": {
        "id": "KcdZRNVPmfRH"
      },
      "source": [
        "## Functions"
      ]
    },
    {
      "cell_type": "code",
      "execution_count": 7,
      "metadata": {
        "id": "VXk-3mdvcpLS"
      },
      "outputs": [],
      "source": [
        "def canny(img):\n",
        "    # Maybe add some auto thresholding here\n",
        "    edges = cv2.Canny(img, 80, 200)\n",
        "    return edges\n",
        "\n",
        "\n",
        "def hough_lines(img):\n",
        "    rho, theta, thresh = 2, np.pi / 180, 600\n",
        "    return cv2.HoughLines(img, rho, theta, thresh)\n",
        "\n",
        "\n",
        "def sort_lines(lines):\n",
        "    \"\"\"\n",
        "    Sorts lines by horizontal and vertical\n",
        "    \"\"\"\n",
        "    h = []\n",
        "    v = []\n",
        "    for i in range(lines.shape[0]):\n",
        "        rho = lines[i][0][0]\n",
        "        theta = lines[i][0][1]\n",
        "        if theta < np.pi / 4 or theta > np.pi - np.pi / 4:\n",
        "            v.append([rho, theta])\n",
        "        else:\n",
        "            h.append([rho, theta])\n",
        "    return h, v\n",
        "\n",
        "\n",
        "def calculate_intersections(h, v):\n",
        "    \"\"\"\n",
        "    Finds the intersection of two lines given in Hesse normal form.\n",
        "    See https://stackoverflow.com/a/383527/5087436\n",
        "    \"\"\"\n",
        "    points = []\n",
        "    for rho1, theta1 in h:\n",
        "        for rho2, theta2 in v:\n",
        "            A = np.array([\n",
        "                [np.cos(theta1), np.sin(theta1)],\n",
        "                [np.cos(theta2), np.sin(theta2)]\n",
        "            ])\n",
        "            b = np.array([[rho1], [rho2]])\n",
        "            point = np.linalg.solve(A, b)\n",
        "            point = int(np.round(point[0])), int(np.round(point[1]))\n",
        "            points.append(point)\n",
        "    return np.array(points)\n",
        "\n",
        "\n",
        "def cluster_intersections(points, max_dist=40):\n",
        "    # I want to change this to kmeans\n",
        "    Y = spatial.distance.pdist(points)\n",
        "    Z = clstr.hierarchy.single(Y)\n",
        "    T = clstr.hierarchy.fcluster(Z, max_dist, 'distance')\n",
        "    clusters = defaultdict(list)\n",
        "    for i in range(len(T)):\n",
        "        clusters[T[i]].append(points[i])\n",
        "    clusters = clusters.values()\n",
        "    clusters = map(lambda arr: (np.mean(np.array(arr)[:, 0]), np.mean(np.array(arr)[:, 1])), clusters)\n",
        "\n",
        "    result = []\n",
        "    for point in clusters:\n",
        "        result.append([point[0], point[1]])\n",
        "    return result\n",
        "\n",
        "\n",
        "def find_chessboard_corners(points):\n",
        "    \"\"\"\n",
        "    Code from https://medium.com/@neshpatel/solving-sudoku-part-ii-9a7019d196a2\n",
        "    \"\"\"\n",
        "    # Bottom-right point has the largest (x + y) value\n",
        "    # Top-left has point smallest (x + y) value\n",
        "    # Bottom-left point has smallest (x - y) value\n",
        "    # Top-right point has largest (x - y) value\n",
        "    bottom_right, _ = max(enumerate([pt[0] + pt[1] for pt in points]), key=operator.itemgetter(1))\n",
        "    top_left, _ = min(enumerate([pt[0] + pt[1] for pt in points]), key=operator.itemgetter(1))\n",
        "    bottom_left, _ = min(enumerate([pt[0] - pt[1] for pt in points]), key=operator.itemgetter(1))\n",
        "    top_right, _ = max(enumerate([pt[0] - pt[1] for pt in points]), key=operator.itemgetter(1))\n",
        "    return [points[top_left], points[top_right], points[bottom_left], points[bottom_right]]\n",
        "\n",
        "\n",
        "def distance_between(p1, p2):\n",
        "    \"\"\"\n",
        "    Code from https://medium.com/@neshpatel/solving-sudoku-part-ii-9a7019d196a2\n",
        "    \"\"\"\n",
        "    a = p2[0] - p1[0]\n",
        "    b = p2[1] - p1[1]\n",
        "    return np.sqrt((a ** 2) + (b ** 2))\n",
        "\n",
        "\n",
        "def warp_image(img, edges):\n",
        "    \"\"\"\n",
        "    Code from https://medium.com/@neshpatel/solving-sudoku-part-ii-9a7019d196a2\n",
        "    \"\"\"\n",
        "    top_left, top_right, bottom_left, bottom_right = edges[0], edges[1], edges[2], edges[3]\n",
        "\n",
        "    # Explicitly set the data type to float32 or 'getPerspectiveTransform' will throw an error\n",
        "    warp_src = np.array([top_left, top_right, bottom_right, bottom_left], dtype='float32')\n",
        "\n",
        "    side = max([\n",
        "        distance_between(bottom_right, top_right),\n",
        "        distance_between(top_left, bottom_left),\n",
        "        distance_between(bottom_right, bottom_left),\n",
        "        distance_between(top_left, top_right)\n",
        "    ])\n",
        "\n",
        "    # Describe a square with side of the calculated length, this is the new perspective we want to warp to\n",
        "    warp_dst = np.array([[0, 0], [side - 1, 0], [side - 1, side - 1], [0, side - 1]], dtype='float32')\n",
        "\n",
        "    # Gets the transformation matrix for skewing the image to fit a square by comparing the 4 before and after points\n",
        "    m = cv2.getPerspectiveTransform(warp_src, warp_dst)\n",
        "\n",
        "    # Performs the transformation on the original image\n",
        "    return cv2.warpPerspective(img, m, (int(side), int(side)))\n",
        "\n",
        "\n",
        "def cut_chessboard(img, output_path, output_prefix=\"\"):\n",
        "    side_len = int(img.shape[0] / 8)\n",
        "    for i in range(8):\n",
        "        for j in range(8):\n",
        "            tile = img[i * side_len: (i + 1) * side_len, j * side_len: (j + 1) * side_len]\n",
        "            cv2.imwrite(output_path + output_prefix + \"-\" + str(j + i * 8) + \".jpg\", tile)\n",
        "\n",
        "\n",
        "def resize_image(img):\n",
        "    \"\"\"\n",
        "    Resizes image to a maximum width of 800px\n",
        "    \"\"\"\n",
        "    width = img.shape[1]\n",
        "    if width > 800:\n",
        "        scale = 800 / width\n",
        "        return cv2.resize(img, None, fx=scale, fy=scale)\n",
        "    else:\n",
        "        return img\n",
        "\n",
        "\n",
        "def process_chessboard(src_path, output_path, output_prefix=\"\", debug=False, count=0):\n",
        "    src = cv2.imread(src_path)\n",
        "\n",
        "    if src is None:\n",
        "        sys.exit(\"There is no file with this path!\")\n",
        "\n",
        "    src = resize_image(src)\n",
        "    src_copy = src.copy()\n",
        "\n",
        "    # Convert to grayscale\n",
        "    process = cv2.cvtColor(src, cv2.COLOR_BGR2GRAY)\n",
        "\n",
        "    if debug:\n",
        "        plt.imshow(process)\n",
        "        plt.show()\n",
        "\n",
        "    # Blur to remove disturbing things\n",
        "    process = cv2.blur(process, (4, 4))\n",
        "\n",
        "    if debug:\n",
        "        plt.imshow(process)\n",
        "        plt.show()\n",
        "\n",
        "    # Use Canny Edge Detector https://en.wikipedia.org/wiki/Canny_edge_detector\n",
        "    process = canny(process)\n",
        "\n",
        "    if debug:\n",
        "        plt.imshow(process)\n",
        "        plt.show()\n",
        "\n",
        "    # Dilate image (thicker lines)\n",
        "    process = cv2.dilate(process, np.ones((3, 3), dtype=np.uint8))\n",
        "\n",
        "    if debug:\n",
        "        plt.imshow(process)\n",
        "        plt.show()\n",
        "    # Use Hough transform to detect lines https://en.wikipedia.org/wiki/Hough_transform\n",
        "    lines = hough_lines(process)\n",
        "\n",
        "    # Sort lines by horizontal and vertical\n",
        "    h, v = sort_lines(lines)\n",
        "\n",
        "    if debug:\n",
        "        render_lines(src_copy, h, (0, 255, 0))\n",
        "        render_lines(src_copy, v, (0, 0, 255))\n",
        "        plt.imshow(process)\n",
        "        plt.show()\n",
        "\n",
        "    if len(h) < 9 or len(v) < 9:\n",
        "        print(\"There are not enough horizontal and vertical lines in this image. Try it anyway!\")\n",
        "\n",
        "    # Calculate intersections of the horizontal and vertical lines\n",
        "    intersections = calculate_intersections(h, v)\n",
        "\n",
        "    if debug:\n",
        "        render_intersections(src_copy, intersections, (255, 0, 0), 1)\n",
        "        plt.imshow(process)\n",
        "        plt.show()\n",
        "\n",
        "    # Cluster intersection since there are many\n",
        "    clustered = cluster_intersections(intersections)\n",
        "\n",
        "    if debug:\n",
        "        src_copy = src.copy()\n",
        "        render_intersections(src_copy, clustered, (255, 0, 0), 5)\n",
        "        plt.imshow(process)\n",
        "        plt.show()\n",
        "\n",
        "    if len(clustered) != 81:\n",
        "        print(\"Something is wrong. There are \" + str(len(intersections)) + \" instead of 81 intersections.\")\n",
        "\n",
        "    # Find outer corners of the chessboard\n",
        "    corners = find_chessboard_corners(clustered)\n",
        "\n",
        "    if debug:\n",
        "        src_copy = src.copy()\n",
        "        render_intersections(src_copy, corners, (255, 0, 0), 5)\n",
        "        plt.imshow(process)\n",
        "        plt.show()\n",
        "\n",
        "    # Warp and crop image\n",
        "    dst = warp_image(src, corners)\n",
        "    try:\n",
        "        cv2.imwrite(output_path + \"crop\" + str(count) + \".jpg\", dst)\n",
        "    except:\n",
        "        print(\"upload fail\")\n",
        "    plt.show()\n",
        "    if debug:\n",
        "        plt.imshow(process)\n",
        "        plt.show()\n",
        "\n",
        "def render_lines(img, lines, color):\n",
        "    for rho, theta in lines:\n",
        "        a = math.cos(theta)\n",
        "        b = math.sin(theta)\n",
        "        x0, y0 = a * rho, b * rho\n",
        "        pt1 = (int(x0 + 1000 * (-b)), int(y0 + 1000 * a))\n",
        "        pt2 = (int(x0 - 1000 * (-b)), int(y0 - 1000 * a))\n",
        "        cv2.line(img, pt1, pt2, color, 1, cv2.LINE_AA)\n",
        "\n",
        "\n",
        "def render_intersections(img, points, color, size):\n",
        "    for point in points:\n",
        "        cv2.circle(img, (int(point[0]), int(point[1])), 2, color, size)"
      ]
    },
    {
      "cell_type": "code",
      "execution_count": 8,
      "metadata": {
        "id": "ARhpLfNqy9GJ"
      },
      "outputs": [],
      "source": [
        "def line_intersections(h_lines, v_lines):\n",
        "  points = []\n",
        "  for x,[r_h, t_h] in h_lines:\n",
        "    row = []\n",
        "    for y,[r_v, t_v] in v_lines:\n",
        "      a = np.array([[np.cos(t_h), np.sin(t_h)], [np.cos(t_v), np.sin(t_v)]])\n",
        "      b = np.array([r_h, r_v])\n",
        "      inter_point = np.linalg.solve(a, b)\n",
        "      row.append((int(inter_point[0]),int(inter_point[1])))\n",
        "    points.append(row)\n",
        "  return np.array(points)"
      ]
    },
    {
      "cell_type": "code",
      "source": [
        "def rotate_image(image):\n",
        "    img = image.copy()\n",
        "    left, right, top, bottom = 0, 0, 0, 0\n",
        "    table = plot_grid(img)\n",
        "\n",
        "    for i, row in enumerate(table):\n",
        "        for j, [x1, y1, x2, y2] in enumerate(row):\n",
        "            # Validate coordinates\n",
        "            if x1 < 0 or y1 < 0 or x2 > img.shape[1] or y2 > img.shape[0]:\n",
        "                # print(f\"Skipping invalid crop coordinates: {x1, y1, x2, y2}\")\n",
        "                continue\n",
        "\n",
        "            crop = img[y1:y2, x1:x2]\n",
        "\n",
        "            if crop.size == 0:\n",
        "                # print(f\"Empty crop at {i}, {j}\")\n",
        "                continue\n",
        "\n",
        "            # Apply blur\n",
        "            crop = cv2.blur(crop, (5, 5))\n",
        "\n",
        "            # Define color ranges\n",
        "            lower_black = (0, 0, 0)\n",
        "            upper_black = (50, 50, 50)\n",
        "            lower_green = (0, 100, 0)\n",
        "            upper_green = (100, 255, 100)\n",
        "            lower_white = (200, 200, 200)\n",
        "            upper_white = (255, 255, 255)\n",
        "\n",
        "            # Create masks\n",
        "            mask_black = cv2.inRange(crop, lower_black, upper_black)\n",
        "            mask_green = cv2.inRange(crop, lower_green, upper_green)\n",
        "            mask_white = cv2.inRange(crop, lower_white, upper_white)\n",
        "\n",
        "            # Exclude background\n",
        "            mask_background = cv2.bitwise_or(mask_green, mask_white)\n",
        "            mask_black_filtered = cv2.bitwise_and(mask_black, cv2.bitwise_not(mask_background))\n",
        "\n",
        "            # Compute histogram\n",
        "            hist = cv2.calcHist([mask_black_filtered], [0], None, [256], [0, 256])\n",
        "            total_pixels = np.sum(hist)\n",
        "\n",
        "            if total_pixels > 0 and (hist[255] / total_pixels >= 0.005):  # Adjust confidence threshold\n",
        "                if i <= 3:\n",
        "                    top += 1\n",
        "                if i > 3:\n",
        "                    bottom += 1\n",
        "                if j <= 3:\n",
        "                    left += 1\n",
        "                if j > 3:\n",
        "                    right += 1\n",
        "\n",
        "    # print(\"Top, Bottom, Left, Right Counts:\", top, bottom, left, right)\n",
        "    max_value = max(top, bottom, left, right)\n",
        "\n",
        "    # Rotate based on the detected direction\n",
        "    if max_value == bottom:\n",
        "        # print(\"Do nothing\")\n",
        "        return 0\n",
        "        # return img\n",
        "    elif max_value == top:\n",
        "        # print(\"180-degree rotation\")\n",
        "        # img = cv2.rotate(image, cv2.ROTATE_180)\n",
        "        return 1\n",
        "    elif max_value == left:\n",
        "        # print(\"90 degrees counter-clockwise\")\n",
        "        # img = cv2.rotate(image, cv2.ROTATE_90_COUNTERCLOCKWISE)\n",
        "        return 2\n",
        "    elif max_value == right:\n",
        "        # print(\"90 degrees clockwise\")\n",
        "        # img = cv2.rotate(image, cv2.ROTATE_90_CLOCKWISE)\n",
        "        return 3\n",
        "\n",
        "    return 4"
      ],
      "metadata": {
        "id": "JZQkYB0csGwo"
      },
      "execution_count": 9,
      "outputs": []
    },
    {
      "cell_type": "code",
      "execution_count": 10,
      "metadata": {
        "id": "vp2J_1hJ1Fr7"
      },
      "outputs": [],
      "source": [
        "def plot_grid(image, verbose = False):\n",
        "  def find_best_9_elements(arr, target_distance):\n",
        "    best_combination = None\n",
        "    min_score = float('inf')\n",
        "\n",
        "    for combination in combinations(arr, 9):\n",
        "        distances = [combination[i+1][0] - combination[i][0] for i in range(8)]\n",
        "        score = sum(abs(d - target_distance) for d in distances)\n",
        "\n",
        "        if score < min_score:\n",
        "            min_score = score\n",
        "            best_combination = combination\n",
        "\n",
        "    return best_combination\n",
        "\n",
        "\n",
        "\n",
        "  def get_lines(lines,length,isHorizon):\n",
        "    tmp,res, =[],[]\n",
        "    for rho, theta in lines:\n",
        "        a = math.cos(theta)\n",
        "        b = math.sin(theta)\n",
        "        x0, y0 = a * rho, b * rho\n",
        "        pts = [int(x0 + 1000 * (-b)), int(y0 + 1000 * a) ,int(x0 - 1000 * (-b)), int(y0 - 1000 * a)]\n",
        "        if(isHorizon):\n",
        "          tmp.append([max(pts[1],pts[3]),[rho,theta]])\n",
        "        else:\n",
        "          tmp.append([max(pts[0],pts[2]),[rho,theta]])\n",
        "    tmp.sort()\n",
        "    mean = length/8\n",
        "    cur = tmp[0]\n",
        "\n",
        "    for i in range(len(tmp)):\n",
        "      if(abs(abs(tmp[i][0]-cur[0])-mean)<=25):\n",
        "        res.append(cur)\n",
        "        cur = tmp[i]\n",
        "      if(i==len(tmp)-1 and len(res)<9):\n",
        "        res.append(cur)\n",
        "    if(len(res)<9):\n",
        "      res = find_best_9_elements(tmp,mean)\n",
        "    return res\n",
        "\n",
        "  def locate_board(h,v,r_size,c_size):\n",
        "    start_point = (v[0],h[0])\n",
        "    row_length = v[-1]-v[0]\n",
        "    col_length = h[-1]-h[0]\n",
        "    return start_point,row_length,col_length\n",
        "\n",
        "\n",
        "\n",
        "  img = image.copy()\n",
        "  img = cv2.cvtColor(img, cv2.COLOR_BGR2GRAY)\n",
        "  img = canny(img)\n",
        "  img = cv2.dilate(img, np.ones((3, 3), dtype=np.uint8),3)\n",
        "  lines = hough_lines(img)\n",
        "  h, v = sort_lines(lines)\n",
        "  h = get_lines(h,image.shape[0],True)\n",
        "  v = get_lines(v,image.shape[1],False)\n",
        "  points = line_intersections(h,v)\n",
        "\n",
        "  table = []\n",
        "  for i in range(8):\n",
        "    rr = []\n",
        "    for j in range(8):\n",
        "        rr.append([points[i][j][0],points[i][j][1],points[i+1][j+1][0],points[i+1][j+1][1]])\n",
        "    #   rr.append([points[j][i][0],points[j][i][1],points[j+1][i+1][0],points[j+1][i+1][1]])\n",
        "    table.append(rr)\n",
        "\n",
        "\n",
        "  for r in table:\n",
        "    for pts in r:\n",
        "      cv2.rectangle(image, (pts[0], pts[1]), (pts[2], pts[3]), (0, 255, 0), 2)\n",
        "\n",
        "  if (verbose):\n",
        "    plt.imshow(image)\n",
        "    plt.show()\n",
        "\n",
        "  return table"
      ]
    },
    {
      "cell_type": "markdown",
      "metadata": {
        "id": "Yn-P9O3ZmpIo"
      },
      "source": [
        "## Map board"
      ]
    },
    {
      "cell_type": "code",
      "execution_count": 11,
      "metadata": {
        "id": "FhSsk2wWyOlK"
      },
      "outputs": [],
      "source": [
        "!rm -rf \"/content/output\"\n",
        "!mkdir \"/content/output\""
      ]
    },
    {
      "cell_type": "code",
      "execution_count": 12,
      "metadata": {
        "colab": {
          "base_uri": "https://localhost:8080/"
        },
        "collapsed": true,
        "id": "_azdapP0nk0x",
        "outputId": "42c47372-850a-47eb-cc00-ff0165e379ce"
      },
      "outputs": [
        {
          "output_type": "stream",
          "name": "stderr",
          "text": [
            "<ipython-input-7-10b2beae692d>:42: DeprecationWarning: Conversion of an array with ndim > 0 to a scalar is deprecated, and will error in future. Ensure you extract a single element from your array before performing this operation. (Deprecated NumPy 1.25.)\n",
            "  point = int(np.round(point[0])), int(np.round(point[1]))\n"
          ]
        },
        {
          "output_type": "stream",
          "name": "stdout",
          "text": [
            "Something is wrong. There are 323 instead of 81 intersections.\n",
            "Something is wrong. There are 306 instead of 81 intersections.\n",
            "Something is wrong. There are 240 instead of 81 intersections.\n",
            "Something is wrong. There are 256 instead of 81 intersections.\n",
            "Something is wrong. There are 289 instead of 81 intersections.\n"
          ]
        }
      ],
      "source": [
        "output_path = 'output/'\n",
        "\n",
        "filenames = os.listdir(folder_path)\n",
        "data = []\n",
        "\n",
        "for filename in filenames:\n",
        "    frame_id = int(filename.split(\".\")[0].strip(\"img\"))\n",
        "    data.append((frame_id, filename))\n",
        "data.sort()\n",
        "\n",
        "\n",
        "for (cnt, path) in data:\n",
        "    full_path = os.path.join(folder_path, path)\n",
        "    process_chessboard(full_path, \"output/\", \"\", False, cnt)"
      ]
    },
    {
      "cell_type": "code",
      "execution_count": 13,
      "metadata": {
        "collapsed": true,
        "id": "3q7R9OqfCE8N"
      },
      "outputs": [],
      "source": [
        "cropped_filenames = os.listdir(\"output/\")\n",
        "cropped_filenames.sort(key=lambda s: get_number_from_file_name(s))\n",
        "frames_corners = []\n",
        "\n",
        "for path in cropped_filenames:\n",
        "    img = cv2.imread(os.path.join(\"output/\", path))\n",
        "    tb = plot_grid(img, verbose = False)\n",
        "    frames_corners.append(np.array(tb))"
      ]
    },
    {
      "cell_type": "code",
      "execution_count": 14,
      "metadata": {
        "id": "FN6kY5-Yp2kS"
      },
      "outputs": [],
      "source": [
        "assert len(frames_corners) == len(os.listdir(folder_path))"
      ]
    },
    {
      "cell_type": "markdown",
      "source": [
        "## Rotate Board (if needed)"
      ],
      "metadata": {
        "id": "ATEIlEu9RUMm"
      }
    },
    {
      "cell_type": "code",
      "source": [
        "flag = rotate_image(cv2.imread(os.path.join(\"output/\", cropped_filenames[0])))\n",
        "assert(flag != 4)\n",
        "\n",
        "if (flag != 0):\n",
        "    print([\"-\", \"180-degree rotation\", \"90 degrees counter-clockwise\", \"90 degrees clockwise\"][flag])\n",
        "    frames_corners = []\n",
        "    for filename in cropped_filenames:\n",
        "        img = cv2.imread(os.path.join(\"output/\", filename))\n",
        "        rotate_image(img)\n",
        "        img = [img,\n",
        "            cv2.rotate(img, cv2.ROTATE_180),\n",
        "            cv2.rotate(img, cv2.ROTATE_90_COUNTERCLOCKWISE),\n",
        "            cv2.rotate(img, cv2.ROTATE_90_CLOCKWISE)\n",
        "                ][flag]\n",
        "        cv2.imwrite(os.path.join(\"output/\", filename), img)\n",
        "        tb = plot_grid(img, verbose = False)\n",
        "        frames_corners.append(np.array(tb))\n",
        ""
      ],
      "metadata": {
        "id": "s-k2aBqotHln"
      },
      "execution_count": 15,
      "outputs": []
    },
    {
      "cell_type": "code",
      "source": [
        "assert len(frames_corners) == len(os.listdir(folder_path))"
      ],
      "metadata": {
        "id": "dpG55tCAzMUC"
      },
      "execution_count": 16,
      "outputs": []
    },
    {
      "cell_type": "markdown",
      "metadata": {
        "id": "sYGw4k5oolj-"
      },
      "source": [
        "# YOLO setup"
      ]
    },
    {
      "cell_type": "markdown",
      "metadata": {
        "id": "Q-XHg7gUqOwr"
      },
      "source": [
        "## Ultralytics setup"
      ]
    },
    {
      "cell_type": "code",
      "execution_count": 17,
      "metadata": {
        "colab": {
          "base_uri": "https://localhost:8080/"
        },
        "id": "zbbSin7UonRI",
        "outputId": "58e5f9ca-11c3-4dc1-80da-2a5587596440"
      },
      "outputs": [
        {
          "output_type": "stream",
          "name": "stdout",
          "text": [
            "Collecting ultralytics==8.3.40\n",
            "  Downloading ultralytics-8.3.40-py3-none-any.whl.metadata (35 kB)\n",
            "Requirement already satisfied: numpy>=1.23.0 in /usr/local/lib/python3.10/dist-packages (from ultralytics==8.3.40) (1.26.4)\n",
            "Requirement already satisfied: matplotlib>=3.3.0 in /usr/local/lib/python3.10/dist-packages (from ultralytics==8.3.40) (3.8.0)\n",
            "Requirement already satisfied: opencv-python>=4.6.0 in /usr/local/lib/python3.10/dist-packages (from ultralytics==8.3.40) (4.10.0.84)\n",
            "Requirement already satisfied: pillow>=7.1.2 in /usr/local/lib/python3.10/dist-packages (from ultralytics==8.3.40) (11.0.0)\n",
            "Requirement already satisfied: pyyaml>=5.3.1 in /usr/local/lib/python3.10/dist-packages (from ultralytics==8.3.40) (6.0.2)\n",
            "Requirement already satisfied: requests>=2.23.0 in /usr/local/lib/python3.10/dist-packages (from ultralytics==8.3.40) (2.32.3)\n",
            "Requirement already satisfied: scipy>=1.4.1 in /usr/local/lib/python3.10/dist-packages (from ultralytics==8.3.40) (1.13.1)\n",
            "Requirement already satisfied: torch>=1.8.0 in /usr/local/lib/python3.10/dist-packages (from ultralytics==8.3.40) (2.5.1+cu121)\n",
            "Requirement already satisfied: torchvision>=0.9.0 in /usr/local/lib/python3.10/dist-packages (from ultralytics==8.3.40) (0.20.1+cu121)\n",
            "Requirement already satisfied: tqdm>=4.64.0 in /usr/local/lib/python3.10/dist-packages (from ultralytics==8.3.40) (4.66.6)\n",
            "Requirement already satisfied: psutil in /usr/local/lib/python3.10/dist-packages (from ultralytics==8.3.40) (5.9.5)\n",
            "Requirement already satisfied: py-cpuinfo in /usr/local/lib/python3.10/dist-packages (from ultralytics==8.3.40) (9.0.0)\n",
            "Requirement already satisfied: pandas>=1.1.4 in /usr/local/lib/python3.10/dist-packages (from ultralytics==8.3.40) (2.2.2)\n",
            "Requirement already satisfied: seaborn>=0.11.0 in /usr/local/lib/python3.10/dist-packages (from ultralytics==8.3.40) (0.13.2)\n",
            "Collecting ultralytics-thop>=2.0.0 (from ultralytics==8.3.40)\n",
            "  Downloading ultralytics_thop-2.0.13-py3-none-any.whl.metadata (9.4 kB)\n",
            "Requirement already satisfied: contourpy>=1.0.1 in /usr/local/lib/python3.10/dist-packages (from matplotlib>=3.3.0->ultralytics==8.3.40) (1.3.1)\n",
            "Requirement already satisfied: cycler>=0.10 in /usr/local/lib/python3.10/dist-packages (from matplotlib>=3.3.0->ultralytics==8.3.40) (0.12.1)\n",
            "Requirement already satisfied: fonttools>=4.22.0 in /usr/local/lib/python3.10/dist-packages (from matplotlib>=3.3.0->ultralytics==8.3.40) (4.55.1)\n",
            "Requirement already satisfied: kiwisolver>=1.0.1 in /usr/local/lib/python3.10/dist-packages (from matplotlib>=3.3.0->ultralytics==8.3.40) (1.4.7)\n",
            "Requirement already satisfied: packaging>=20.0 in /usr/local/lib/python3.10/dist-packages (from matplotlib>=3.3.0->ultralytics==8.3.40) (24.2)\n",
            "Requirement already satisfied: pyparsing>=2.3.1 in /usr/local/lib/python3.10/dist-packages (from matplotlib>=3.3.0->ultralytics==8.3.40) (3.2.0)\n",
            "Requirement already satisfied: python-dateutil>=2.7 in /usr/local/lib/python3.10/dist-packages (from matplotlib>=3.3.0->ultralytics==8.3.40) (2.8.2)\n",
            "Requirement already satisfied: pytz>=2020.1 in /usr/local/lib/python3.10/dist-packages (from pandas>=1.1.4->ultralytics==8.3.40) (2024.2)\n",
            "Requirement already satisfied: tzdata>=2022.7 in /usr/local/lib/python3.10/dist-packages (from pandas>=1.1.4->ultralytics==8.3.40) (2024.2)\n",
            "Requirement already satisfied: charset-normalizer<4,>=2 in /usr/local/lib/python3.10/dist-packages (from requests>=2.23.0->ultralytics==8.3.40) (3.4.0)\n",
            "Requirement already satisfied: idna<4,>=2.5 in /usr/local/lib/python3.10/dist-packages (from requests>=2.23.0->ultralytics==8.3.40) (3.10)\n",
            "Requirement already satisfied: urllib3<3,>=1.21.1 in /usr/local/lib/python3.10/dist-packages (from requests>=2.23.0->ultralytics==8.3.40) (2.2.3)\n",
            "Requirement already satisfied: certifi>=2017.4.17 in /usr/local/lib/python3.10/dist-packages (from requests>=2.23.0->ultralytics==8.3.40) (2024.8.30)\n",
            "Requirement already satisfied: filelock in /usr/local/lib/python3.10/dist-packages (from torch>=1.8.0->ultralytics==8.3.40) (3.16.1)\n",
            "Requirement already satisfied: typing-extensions>=4.8.0 in /usr/local/lib/python3.10/dist-packages (from torch>=1.8.0->ultralytics==8.3.40) (4.12.2)\n",
            "Requirement already satisfied: networkx in /usr/local/lib/python3.10/dist-packages (from torch>=1.8.0->ultralytics==8.3.40) (3.4.2)\n",
            "Requirement already satisfied: jinja2 in /usr/local/lib/python3.10/dist-packages (from torch>=1.8.0->ultralytics==8.3.40) (3.1.4)\n",
            "Requirement already satisfied: fsspec in /usr/local/lib/python3.10/dist-packages (from torch>=1.8.0->ultralytics==8.3.40) (2024.10.0)\n",
            "Requirement already satisfied: sympy==1.13.1 in /usr/local/lib/python3.10/dist-packages (from torch>=1.8.0->ultralytics==8.3.40) (1.13.1)\n",
            "Requirement already satisfied: mpmath<1.4,>=1.1.0 in /usr/local/lib/python3.10/dist-packages (from sympy==1.13.1->torch>=1.8.0->ultralytics==8.3.40) (1.3.0)\n",
            "Requirement already satisfied: six>=1.5 in /usr/local/lib/python3.10/dist-packages (from python-dateutil>=2.7->matplotlib>=3.3.0->ultralytics==8.3.40) (1.16.0)\n",
            "Requirement already satisfied: MarkupSafe>=2.0 in /usr/local/lib/python3.10/dist-packages (from jinja2->torch>=1.8.0->ultralytics==8.3.40) (3.0.2)\n",
            "Downloading ultralytics-8.3.40-py3-none-any.whl (898 kB)\n",
            "\u001b[2K   \u001b[90m━━━━━━━━━━━━━━━━━━━━━━━━━━━━━━━━━━━━━━━━\u001b[0m \u001b[32m898.5/898.5 kB\u001b[0m \u001b[31m24.2 MB/s\u001b[0m eta \u001b[36m0:00:00\u001b[0m\n",
            "\u001b[?25hDownloading ultralytics_thop-2.0.13-py3-none-any.whl (26 kB)\n",
            "Installing collected packages: ultralytics-thop, ultralytics\n",
            "Successfully installed ultralytics-8.3.40 ultralytics-thop-2.0.13\n"
          ]
        }
      ],
      "source": [
        "!pip install ultralytics==8.3.40"
      ]
    },
    {
      "cell_type": "code",
      "execution_count": 18,
      "metadata": {
        "colab": {
          "base_uri": "https://localhost:8080/"
        },
        "id": "CJfvKxadqDRu",
        "outputId": "152191f5-a71a-4a6c-a8bc-09f9bf3c8ba1"
      },
      "outputs": [
        {
          "output_type": "stream",
          "name": "stdout",
          "text": [
            "Ultralytics 8.3.40 🚀 Python-3.10.12 torch-2.5.1+cu121 CUDA:0 (Tesla T4, 15102MiB)\n",
            "Setup complete ✅ (2 CPUs, 12.7 GB RAM, 32.6/235.7 GB disk)\n"
          ]
        }
      ],
      "source": [
        "import ultralytics\n",
        "ultralytics.checks()"
      ]
    },
    {
      "cell_type": "code",
      "execution_count": 19,
      "metadata": {
        "id": "FSU69lVLrS4x"
      },
      "outputs": [],
      "source": [
        "from ultralytics import YOLO\n",
        "from ultralytics import settings"
      ]
    },
    {
      "cell_type": "code",
      "execution_count": 20,
      "metadata": {
        "colab": {
          "base_uri": "https://localhost:8080/"
        },
        "id": "mC4HBYK5suRo",
        "outputId": "b11c35ef-49a5-4382-8ebf-36de9fc99442"
      },
      "outputs": [
        {
          "output_type": "stream",
          "name": "stdout",
          "text": [
            "Downloading https://github.com/ultralytics/assets/releases/download/v8.3.0/yolov8n.pt to 'yolov8n.pt'...\n"
          ]
        },
        {
          "output_type": "stream",
          "name": "stderr",
          "text": [
            "100%|██████████| 6.25M/6.25M [00:00<00:00, 96.2MB/s]\n"
          ]
        }
      ],
      "source": [
        "model = YOLO(\"yolov8n.pt\")"
      ]
    },
    {
      "cell_type": "markdown",
      "metadata": {
        "id": "gvpaDE7_tfiz"
      },
      "source": [
        "# Detect Piece Inference"
      ]
    },
    {
      "cell_type": "code",
      "source": [
        "!wget https://github.com/prinnnnnn/dig-image-final-project/raw/refs/heads/main/weights/best.pt best.pt"
      ],
      "metadata": {
        "colab": {
          "base_uri": "https://localhost:8080/"
        },
        "id": "gRobRLK4YJmr",
        "outputId": "fab959ca-ecb4-44c0-9158-82c866d3e3f3"
      },
      "execution_count": 28,
      "outputs": [
        {
          "output_type": "stream",
          "name": "stdout",
          "text": [
            "--2024-12-10 11:49:21--  https://github.com/prinnnnnn/dig-image-final-project/raw/refs/heads/main/weights/best.pt\n",
            "Resolving github.com (github.com)... 140.82.113.3\n",
            "Connecting to github.com (github.com)|140.82.113.3|:443... connected.\n",
            "HTTP request sent, awaiting response... 302 Found\n",
            "Location: https://raw.githubusercontent.com/prinnnnnn/dig-image-final-project/refs/heads/main/weights/best.pt [following]\n",
            "--2024-12-10 11:49:21--  https://raw.githubusercontent.com/prinnnnnn/dig-image-final-project/refs/heads/main/weights/best.pt\n",
            "Resolving raw.githubusercontent.com (raw.githubusercontent.com)... 185.199.108.133, 185.199.109.133, 185.199.110.133, ...\n",
            "Connecting to raw.githubusercontent.com (raw.githubusercontent.com)|185.199.108.133|:443... connected.\n",
            "HTTP request sent, awaiting response... 200 OK\n",
            "Length: 52040395 (50M) [application/octet-stream]\n",
            "Saving to: ‘best.pt’\n",
            "\n",
            "best.pt             100%[===================>]  49.63M   314MB/s    in 0.2s    \n",
            "\n",
            "2024-12-10 11:49:21 (314 MB/s) - ‘best.pt’ saved [52040395/52040395]\n",
            "\n",
            "--2024-12-10 11:49:21--  http://best.pt/\n",
            "Resolving best.pt (best.pt)... failed: No address associated with hostname.\n",
            "wget: unable to resolve host address ‘best.pt’\n",
            "FINISHED --2024-12-10 11:49:21--\n",
            "Total wall clock time: 0.6s\n",
            "Downloaded: 1 files, 50M in 0.2s (314 MB/s)\n"
          ]
        }
      ]
    },
    {
      "cell_type": "code",
      "execution_count": 29,
      "metadata": {
        "id": "LGuQBRe0XCqr"
      },
      "outputs": [],
      "source": [
        "model = YOLO(\"best.pt\")"
      ]
    },
    {
      "cell_type": "code",
      "execution_count": 30,
      "metadata": {
        "colab": {
          "base_uri": "https://localhost:8080/"
        },
        "id": "mJnthOx0Jw0t",
        "outputId": "9b5441f6-5552-42a6-8b32-5f1e35da5ac8"
      },
      "outputs": [
        {
          "output_type": "execute_result",
          "data": {
            "text/plain": [
              "['img1.jpg', 'img2.jpg', 'img3.jpg', 'img4.jpg', 'img5.jpg']"
            ]
          },
          "metadata": {},
          "execution_count": 30
        }
      ],
      "source": [
        "uncropped_filenames = os.listdir(folder_path)\n",
        "uncropped_filenames.sort(key=lambda s: get_number_from_file_name(s))\n",
        "uncropped_filenames"
      ]
    },
    {
      "cell_type": "code",
      "execution_count": 31,
      "metadata": {
        "id": "8acLElvWtgMj"
      },
      "outputs": [],
      "source": [
        "results = []\n",
        "frames_classes = []\n",
        "frames_coors = []\n",
        "frames_confs = []\n",
        "\n",
        "# for path in uncropped_filenames:\n",
        "for path in cropped_filenames:\n",
        "    img = cv2.imread(os.path.join(\"output/\", path))\n",
        "    # img = cv2.imread(os.path.join(folder_path, path))\n",
        "    res = model(img, verbose = False, conf = 0.25)[0]\n",
        "    classes_labels = np.array(res.boxes.cls.to(\"cpu\"), dtype=int)\n",
        "    locs = res.boxes.xyxy.to(\"cpu\").numpy()\n",
        "    confs = res.boxes.conf.to(\"cpu\").numpy()\n",
        "\n",
        "    # res.show()\n",
        "    results.append(res.to(\"cpu\"))\n",
        "    frames_classes.append(classes_labels)\n",
        "    frames_coors.append(locs)\n",
        "    frames_confs.append(confs)"
      ]
    },
    {
      "cell_type": "code",
      "source": [
        "cropped_filenames"
      ],
      "metadata": {
        "colab": {
          "base_uri": "https://localhost:8080/"
        },
        "id": "R8rcxH5iWibe",
        "outputId": "dde7e293-16ad-4d3e-c5f3-ac268f95a1f7"
      },
      "execution_count": 32,
      "outputs": [
        {
          "output_type": "execute_result",
          "data": {
            "text/plain": [
              "['crop1.jpg', 'crop2.jpg', 'crop3.jpg', 'crop4.jpg', 'crop5.jpg']"
            ]
          },
          "metadata": {},
          "execution_count": 32
        }
      ]
    },
    {
      "cell_type": "markdown",
      "metadata": {
        "id": "2XtaDUi3-K01"
      },
      "source": [
        "## Map infereneced result to coordinate"
      ]
    },
    {
      "cell_type": "code",
      "execution_count": 33,
      "metadata": {
        "id": "8NnhQySa8t5O"
      },
      "outputs": [],
      "source": [
        "assert len(frames_classes) == len(frames_corners)\n",
        "assert len(frames_coors) == len(frames_corners)\n",
        "assert len(frames_confs) == len(frames_corners)"
      ]
    },
    {
      "cell_type": "code",
      "execution_count": 34,
      "metadata": {
        "id": "i-vnaBaNlDkT"
      },
      "outputs": [],
      "source": [
        "label_to_full_names = [\n",
        "    \"white-queen\",\n",
        "    \"white-pawn\",\n",
        "    \"black-rook\",\n",
        "    \"black-bishop\",\n",
        "    \"black-knight\",\n",
        "    \"black-queen\",\n",
        "    \"black-pawn\",\n",
        "    \"black-king\",\n",
        "    \"white-rook\",\n",
        "    \"white-bishop\",\n",
        "    \"white-knight\",\n",
        "    \"white-king\"\n",
        "]\n",
        "\n",
        "label_to_piece_names = [\n",
        "    \"Q\",\n",
        "    \"P\",\n",
        "    \"r\",\n",
        "    \"b\",\n",
        "    \"n\",\n",
        "    \"q\",\n",
        "    \"p\",\n",
        "    \"k\",\n",
        "    \"R\",\n",
        "    \"B\",\n",
        "    \"N\",\n",
        "    \"K\"\n",
        "]\n",
        "\n",
        "columns = [\"h\", \"g\", \"f\", \"e\", \"d\", \"c\", \"b\", \"a\"]\n",
        "rows = [i+1 for i in range(8)]"
      ]
    },
    {
      "cell_type": "code",
      "execution_count": 35,
      "metadata": {
        "id": "OrJOoCBJ-U6o"
      },
      "outputs": [],
      "source": [
        "encoded_frames = []\n",
        "confs_frames = []\n",
        "\n",
        "for i in range(len(frames_corners)): # for each frame\n",
        "\n",
        "    board = [[\".\" for _ in range(8)] for _ in range(8)]\n",
        "    piece_conf = [[0 for _ in range(8)] for _ in range(8)]\n",
        "\n",
        "    corners = frames_corners[i]\n",
        "    classes = frames_classes[i]\n",
        "    locs = frames_coors[i]\n",
        "    confs = frames_confs[i]\n",
        "    filename = cropped_filenames[i]\n",
        "    # board_bgr = cv2.imread(f\"output/{filename}\")\n",
        "    # board = cv2.cvtColor(board_bgr, cv2.COLOR_BGR2RGB)\n",
        "\n",
        "    for (j, (cls, (x1, y1, x2, y2), conf)) in enumerate(zip(classes, locs, confs)): # for each piece found\n",
        "        x1, y1, x2, y2 = round(x1), round(y1), round(x2), round(y2)\n",
        "\n",
        "        x_mid = (x1 + x2) // 2\n",
        "        y_base = y2 - (y2 - y1) // 10\n",
        "        located = False\n",
        "        # print(f\"(x,y) = ({x_mid}, {y_base})\")\n",
        "\n",
        "        for row in range(8):\n",
        "            if (located):\n",
        "                break\n",
        "            for col in range(8):\n",
        "                if (located):\n",
        "                    break\n",
        "                x_l, y_t, x_r, y_b = corners[row][col]\n",
        "\n",
        "                assert(x_l < x_r)\n",
        "                assert(y_t < y_b)\n",
        "\n",
        "                if ((x_l <= x_mid <= x_r) and (y_t <= y_base <= y_b)):\n",
        "                    # print(f\"Found {label_to_piece_names[cls]} at {columns[col]}{rows[row]} with conf: {conf:.4f}\")\n",
        "                    if (piece_conf[row][col] == 0):\n",
        "                        piece_conf[row][col] = conf\n",
        "                        board[row][col] = label_to_piece_names[int(results[0].names[cls])]\n",
        "                        located = True\n",
        "\n",
        "    nd_confs = np.array(piece_conf)\n",
        "    nd_board = np.array(board)\n",
        "    encoded_frames.append(nd_board)\n",
        "    confs_frames.append(nd_confs)"
      ]
    },
    {
      "cell_type": "markdown",
      "metadata": {
        "id": "72gmzbaeDWxl"
      },
      "source": [
        "# Decode board to PGN"
      ]
    },
    {
      "cell_type": "code",
      "execution_count": 38,
      "metadata": {
        "id": "QOEMp6FUDPVy"
      },
      "outputs": [],
      "source": [
        "board_notation = [\n",
        "    ['h1', 'g1', 'f1', 'e1', 'd1', 'c1', 'b1', 'a1'],\n",
        "    ['h2', 'g2', 'f2', 'e2', 'd2', 'c2', 'b2', 'a2'],\n",
        "    ['h3', 'g3', 'f3', 'e3', 'd3', 'c3', 'b3', 'a3'],\n",
        "    ['h4', 'g4', 'f4', 'e4', 'd4', 'c4', 'b4', 'a4'],\n",
        "    ['h5', 'g5', 'f5', 'e5', 'd5', 'c5', 'b5', 'a5'],\n",
        "    ['h6', 'g6', 'f6', 'e6', 'd6', 'c6', 'b6', 'a6'],\n",
        "    ['h7', 'g7', 'f7', 'e7', 'd7', 'c7', 'b7', 'a7'],\n",
        "    ['h8', 'g8', 'f8', 'e8', 'd8', 'c8', 'b8', 'a8']\n",
        "]"
      ]
    },
    {
      "cell_type": "markdown",
      "source": [
        "## Functions"
      ],
      "metadata": {
        "id": "7AS7QzFBQO-1"
      }
    },
    {
      "cell_type": "code",
      "source": [
        "def next_moves_knight(board, row, col):\n",
        "    result = []\n",
        "    for dx in range(-1, 2):\n",
        "        for dy in range(-1, 2):\n",
        "            next_row, next_col = next_row + dy, next_col + dx\n",
        "            if (next_row >= 0 and next_row < 8 and next_col >= 0 and next_col < 8 and board[next_row][next_col] == '.'):\n",
        "                result.append(board)\n",
        "\n",
        "    return result"
      ],
      "metadata": {
        "id": "IGTkbgLFo-yU"
      },
      "execution_count": 39,
      "outputs": []
    },
    {
      "cell_type": "code",
      "source": [
        "def check_bishop(start, end, board):\n",
        "    start_file, start_rank = start\n",
        "    end_file, end_rank = end\n",
        "    file_diff = abs(ord(end_file) - ord(start_file))\n",
        "    rank_diff = abs(int(end_rank) - int(start_rank))\n",
        "\n",
        "    bn_i = []\n",
        "    for r in board[::-1]:\n",
        "      bn_i.append(r[::-1])\n",
        "\n",
        "    movable = []\n",
        "    sf1 = ord(start_file)\n",
        "    sr1 = ord(start_rank)\n",
        "    pos_file_board1 = sf1 - ord('a')\n",
        "    pos_rank_board1 =sr1 - ord('1')\n",
        "\n",
        "    sf2 = ord(start_file)\n",
        "    sr2 = ord(start_rank)\n",
        "    pos_file_board2 = sf2 - ord('a')\n",
        "    pos_rank_board2 =sr2 - ord('1')\n",
        "\n",
        "    sf3 = ord(start_file)\n",
        "    sr3 = ord(start_rank)\n",
        "    pos_file_board3 = sf3 - ord('a')\n",
        "    pos_rank_board3 =sr3 - ord('1')\n",
        "\n",
        "    sf4 = ord(start_file)\n",
        "    sr4 = ord(start_rank)\n",
        "    pos_file_board4 = sf4 - ord('a')\n",
        "    pos_rank_board4 =sr4 - ord('1')\n",
        "\n",
        "    #top right\n",
        "    while(sf1<= ord('h') and sr1 <= ord('8')):\n",
        "        if(bn_i[pos_file_board1][pos_rank_board1] == '.'):\n",
        "            movable.append(chr(sf1)+chr(sr1))\n",
        "        else:\n",
        "            break;\n",
        "        sf1 +=1\n",
        "        sr1 += 1\n",
        "        pos_file_board1+=1\n",
        "        pos_rank_board1+=1\n",
        "\n",
        "    #bot right\n",
        "    while(sf2<= ord('h') and sr2 >= ord('1')):\n",
        "        if(bn_i[pos_file_board2][pos_rank_board2] == '.'):\n",
        "            movable.append(chr(sf2)+chr(sr2))\n",
        "        else:\n",
        "            break;\n",
        "        sf2 +=  1\n",
        "        sr2 -= 1\n",
        "        pos_file_board2+=1\n",
        "        pos_rank_board2-=1\n",
        "\n",
        "    #bot left\n",
        "    while(sf3>= ord('a') and sr3 <= ord('1')):\n",
        "        if(bn_i[pos_file_board3][pos_rank_board3] == '.'):\n",
        "            movable.append(chr(sf3)+chr(sr3))\n",
        "        else:\n",
        "            break;\n",
        "        sf3 -=1\n",
        "        sr3 -= 1\n",
        "        pos_file_board3 -= 1\n",
        "        pos_rank_board3 -= 1\n",
        "\n",
        "      #top left\n",
        "    while(sf3>= ord('a') and sr3 >= ord('8')):\n",
        "        if(bn_i[pos_file_board4][pos_rank_board4] == '.'):\n",
        "            movable.append(chr(sf3)+chr(sr3))\n",
        "        else:\n",
        "            break;\n",
        "        sf3  -=1\n",
        "        sr3  += 1\n",
        "        pos_file_board4 -=1\n",
        "        pos_rank_board4 +=1\n",
        "\n",
        "    return movable.count(end)"
      ],
      "metadata": {
        "id": "_NYNsEuc1gyx"
      },
      "execution_count": 40,
      "outputs": []
    },
    {
      "cell_type": "code",
      "source": [
        "# def check_rook(start, end, board):\n",
        "#     start_file, start_rank = start\n",
        "#     end_file, end_rank = end\n",
        "\n",
        "#     bn_i = []\n",
        "#     for r in board[::-1]:\n",
        "#       bn_i.append(r[::-1])\n",
        "\n",
        "#     movable = []\n",
        "#     sf1 = ord(start_file)\n",
        "#     sr1 = ord(start_rank)\n",
        "#     pos_file_board1 = sf1 - ord('a')\n",
        "#     pos_rank_board1 =sr1 - ord('1')\n",
        "\n",
        "#     sf2 = ord(start_file)\n",
        "#     sr2 = ord(start_rank)\n",
        "#     pos_file_board2 = sf2 - ord('a')\n",
        "#     pos_rank_board2 =sr2 - ord('1')\n",
        "\n",
        "#     sf3 = ord(start_file)\n",
        "#     sr3 = ord(start_rank)\n",
        "#     pos_file_board3 = sf3 - ord('a')\n",
        "#     pos_rank_board3 =sr3 - ord('1')\n",
        "\n",
        "#     sf4 = ord(start_file)\n",
        "#     sr4 = ord(start_rank)\n",
        "#     pos_file_board4 = sf4 - ord('a')\n",
        "#     pos_rank_board4 =sr4 - ord('1')\n",
        "\n",
        "#     #top\n",
        "#     while(sr1 <= ord('8')):\n",
        "#       if(bn_i[pos_file_board1][pos_rank_board1] == '.'):\n",
        "#         movable.append(chr(sf1)+chr(sr1))\n",
        "#       else:\n",
        "#         break;\n",
        "#       sr1 += 1\n",
        "#       pos_rank_board1+=1\n",
        "\n",
        "#       #bot\n",
        "#       while(sr2 >= ord('1')):\n",
        "#         if(bn_i[pos_file_board2][pos_rank_board2] == '.'):\n",
        "#           movable.append(chr(sf2)+chr(sr2))\n",
        "#         else:\n",
        "#           break;\n",
        "#         sr2 -= 1\n",
        "#         pos_rank_board2-=1\n",
        "\n",
        "#         #right\n",
        "#         while(sf3<= ord('h')):\n",
        "#           if(bn_i[pos_file_board3][pos_rank_board3] == '.'):\n",
        "#             movable.append(chr(sf3)+chr(sr3))\n",
        "#           else:\n",
        "#             break\n",
        "#           sr3 += 1\n",
        "#           pos_file_board3+=1\n",
        "\n",
        "#         #left\n",
        "#         while(sf4>= ord('a')):\n",
        "#           if(bn_i[pos_file_board4][pos_rank_board4] == '.'):\n",
        "#             movable.append(chr(sf4)+chr(sr4))\n",
        "#           else:\n",
        "#             break\n",
        "#           sr4 -= 1\n",
        "#           pos_file_board4-=1\n",
        "\n",
        "\n",
        "#     return movable.count(end)"
      ],
      "metadata": {
        "id": "ujIEWKx71wMA"
      },
      "execution_count": 41,
      "outputs": []
    },
    {
      "cell_type": "code",
      "source": [
        "def get_index(notation, board_notation):\n",
        "  for row_index, row in enumerate(board_notation):\n",
        "    for col_index, element in enumerate(row):\n",
        "      if element == notation:\n",
        "        return row_index, col_index\n",
        "  return None\n",
        "\n",
        "def check_move(board, move):\n",
        "\n",
        "    def check_pawn(start, end, piece):\n",
        "        start_file, start_rank = start\n",
        "        end_file, end_rank = end\n",
        "        file_diff = abs(ord(end_file) - ord(start_file))\n",
        "        rank_diff= int(end_rank) - int(start_rank)\n",
        "        if piece == \"P\":\n",
        "            return (start_file == end_file and rank_diff == 1) or (file_diff == 1 and rank_diff == 1) or \\\n",
        "                   (start_file == end_file and rank_diff == 2 and int(start_rank) == 2)\n",
        "        elif piece == \"p\":\n",
        "            return (start_file == end_file and rank_diff == -1) or (file_diff == 1 and rank_diff == -1) or \\\n",
        "                   (start_file == end_file and rank_diff == -2 and int(start_rank) == 7)\n",
        "\n",
        "    def check_knight(start, end):\n",
        "        start_file, start_rank = start\n",
        "        end_file, end_rank = end\n",
        "        file_diff = abs(ord(end_file) - ord(start_file))\n",
        "        rank_diff = abs(int(end_rank) - int(start_rank))\n",
        "        return (file_diff, rank_diff) in [(1, 2), (2, 1)]\n",
        "\n",
        "    def check_rook(start, end):\n",
        "        start_file, start_rank = start\n",
        "        end_file, end_rank = end\n",
        "        return start_file == end_file or start_rank == end_rank\n",
        "\n",
        "    def check_bishop(start, end):\n",
        "        start_file, start_rank = start\n",
        "        end_file, end_rank = end\n",
        "        file_diff = abs(ord(end_file) - ord(start_file))\n",
        "        rank_diff = abs(int(end_rank) - int(start_rank))\n",
        "        return file_diff == rank_diff\n",
        "\n",
        "    def check_queen(start, end):\n",
        "        return check_rook(start, end) or check_bishop(start, end)\n",
        "\n",
        "    def check_king(start, end):\n",
        "        start_file, start_rank = start\n",
        "        end_file, end_rank = end\n",
        "        file_diff = abs(ord(end_file) - ord(start_file))\n",
        "        rank_diff = abs(int(end_rank) - int(start_rank))\n",
        "        return max(file_diff, rank_diff) == 1\n",
        "\n",
        "    start = move[:2]\n",
        "    end = move[2:]\n",
        "\n",
        "    row, col = get_index(start, board_notation)\n",
        "    piece = board[row][col]\n",
        "\n",
        "    if piece.lower() == \"p\":\n",
        "        return check_pawn(start, end, piece)\n",
        "    elif piece.lower() == \"n\":\n",
        "        return check_knight(start, end)\n",
        "    elif piece.lower() == \"r\":\n",
        "        return check_rook(start, end)\n",
        "    elif piece.lower() == \"b\":\n",
        "        return check_bishop(start, end)\n",
        "    elif piece.lower() == \"q\":\n",
        "        return check_bishop(start, end) or check_rook(start, end)\n",
        "    elif piece.lower() == \"k\":\n",
        "        return check_king(start, end)\n",
        "\n",
        "def find_move(board_before, board_after):\n",
        "    moves = []\n",
        "\n",
        "    for row in range(8):\n",
        "        for col in range(8):\n",
        "            piece_before = board_before[row][col]\n",
        "            piece_after = board_after[row][col]\n",
        "\n",
        "            if piece_before != piece_after:\n",
        "                if piece_before != '.':  # A piece moved from this square\n",
        "                    move_from = board_notation[row][col]\n",
        "                    next = col\n",
        "                    for target_row in range(row, 8):\n",
        "                      for target_col in range(next+1, 8):\n",
        "                        p_after = board_after[target_row][target_col]\n",
        "                        if (piece_before == p_after and board_before[target_row][target_col] == '.'):\n",
        "                          moves.append(move_from+board_notation[target_row][target_col])\n",
        "                      next = 0\n",
        "\n",
        "                if piece_after != '.':  # A piece moved to this square\n",
        "                    move_to = board_notation[row][col]\n",
        "                    next = col\n",
        "                    for target_row in range(row, 8):\n",
        "                      for target_col in range(next+1, 8):\n",
        "                        p_before = board_before[target_row][target_col]\n",
        "                        if (piece_after == p_before and board_after[target_row][target_col] == '.'):\n",
        "                          moves.append(board_notation[target_row][target_col]+move_to)\n",
        "                      next = 0;\n",
        "\n",
        "    return moves"
      ],
      "metadata": {
        "id": "02jC4Rr-QOly"
      },
      "execution_count": 42,
      "outputs": []
    },
    {
      "cell_type": "code",
      "source": [
        "def get_turn_start(board_before, move):\n",
        "  turn_start = ''\n",
        "  lower_alphabet = 'prbqk'\n",
        "  upper_alphabet = 'PRBQK'\n",
        "\n",
        "  start = move[:2]\n",
        "\n",
        "  start_row, start_col = get_index(start, board_notation)\n",
        "  piece = board_before[start_row][start_col]\n",
        "\n",
        "  if piece in lower_alphabet:\n",
        "    turn_start = 'b'\n",
        "  elif piece in upper_alphabet:\n",
        "    turn_start = 'w'\n",
        "\n",
        "  return turn_start"
      ],
      "metadata": {
        "id": "obISAj3k_cs_"
      },
      "execution_count": 43,
      "outputs": []
    },
    {
      "cell_type": "code",
      "source": [
        "def uci_to_san(board_before, move):\n",
        "    start = move[:2]\n",
        "    end = move[2:]\n",
        "\n",
        "    # Get the piece at the starting square\n",
        "    start_row, start_col = get_index(start, board_notation)  # Find the row and column\n",
        "    piece = board_before[start_row][start_col]  # Get the piece\n",
        "\n",
        "    end_row, end_col = get_index(end, board_notation)\n",
        "    captured_piece = board_before[end_row][end_col]\n",
        "\n",
        "    # Check for captures\n",
        "    if captured_piece != '.':  # If there's a piece at the destination\n",
        "        if piece.lower() == 'p':  # If it's a pawn capture\n",
        "            san = start[0] + 'x' + end  # Add the pawn's file and 'x'\n",
        "        else:  # If it's another piece capture\n",
        "            san = piece.upper() + 'x' + end  # Add the piece notation and 'x'\n",
        "    else:  # If it's not a capture\n",
        "        if piece.lower() == 'p':\n",
        "            san = end\n",
        "        else:\n",
        "            san = piece.upper() + end\n",
        "\n",
        "    return san"
      ],
      "metadata": {
        "id": "-4rUhwL0_fTX"
      },
      "execution_count": 44,
      "outputs": []
    },
    {
      "cell_type": "markdown",
      "source": [
        "## Decode"
      ],
      "metadata": {
        "id": "kyXw7PlRR2VB"
      }
    },
    {
      "cell_type": "code",
      "source": [
        "detected_moves = []\n",
        "\n",
        "for i, (board_before, board_after) in enumerate(zip(encoded_frames[:-1], encoded_frames[1:])):\n",
        "    # move frame ith to i+1 th\n",
        "    # print(board_before)\n",
        "    moves = find_move(board_before, board_after)\n",
        "    # generate_moves(board_before, position)\n",
        "    checked_moves = []\n",
        "    # for m in moves:\n",
        "        # if (check_move(board_before, m)):\n",
        "    if (len(moves) > 0):\n",
        "        checked_moves.append(moves[-1])\n",
        "    print(f\"{i+1}=>{i+2}: {checked_moves}\")\n",
        "    detected_moves.append(checked_moves)"
      ],
      "metadata": {
        "colab": {
          "base_uri": "https://localhost:8080/"
        },
        "id": "SDyOjs3NR3Gb",
        "outputId": "a920d3b5-a27b-4d39-b3b4-5977ccdc08da"
      },
      "execution_count": 45,
      "outputs": [
        {
          "output_type": "stream",
          "name": "stdout",
          "text": [
            "1=>2: ['f6f4']\n",
            "2=>3: ['h4g6']\n",
            "3=>4: ['f4g3']\n",
            "4=>5: []\n"
          ]
        }
      ]
    },
    {
      "cell_type": "code",
      "source": [
        "board_before, board_after"
      ],
      "metadata": {
        "colab": {
          "base_uri": "https://localhost:8080/"
        },
        "id": "aIbhNG1zaGHE",
        "outputId": "dc95ba6d-98e1-4b8b-8edc-70d27e80cebf"
      },
      "execution_count": 46,
      "outputs": [
        {
          "output_type": "execute_result",
          "data": {
            "text/plain": [
              "(array([['Q', '.', 'B', 'K', 'Q', '.', '.', 'N'],\n",
              "        ['P', 'P', 'P', '.', '.', 'P', '.', 'P'],\n",
              "        ['.', 'p', '.', '.', '.', 'N', '.', '.'],\n",
              "        ['.', '.', '.', 'P', '.', '.', 'P', '.'],\n",
              "        ['.', '.', '.', 'p', 'P', '.', '.', 'n'],\n",
              "        ['.', 'N', '.', '.', 'p', '.', '.', '.'],\n",
              "        ['.', 'p', '.', '.', 'b', 'p', 'p', 'p'],\n",
              "        ['r', 'n', 'b', 'k', 'q', '.', '.', 'r']], dtype='<U1'),\n",
              " array([['R', '.', 'B', 'Q', 'Q', '.', '.', 'R'],\n",
              "        ['P', 'P', 'P', '.', '.', 'P', '.', 'P'],\n",
              "        ['.', 'p', '.', '.', '.', 'N', '.', '.'],\n",
              "        ['.', '.', '.', 'P', '.', '.', 'P', '.'],\n",
              "        ['.', '.', '.', 'p', 'P', '.', '.', 'n'],\n",
              "        ['.', '.', '.', '.', 'p', '.', '.', '.'],\n",
              "        ['.', 'p', '.', '.', 'b', 'p', 'p', 'p'],\n",
              "        ['N', 'n', 'b', 'k', 'q', '.', '.', 'r']], dtype='<U1'))"
            ]
          },
          "metadata": {},
          "execution_count": 46
        }
      ]
    },
    {
      "cell_type": "markdown",
      "source": [
        "## PGN"
      ],
      "metadata": {
        "id": "ojUXGmO17YPc"
      }
    },
    {
      "cell_type": "code",
      "source": [
        "detected_moves"
      ],
      "metadata": {
        "colab": {
          "base_uri": "https://localhost:8080/"
        },
        "id": "8oiO2PrT31cD",
        "outputId": "9573e6ca-6978-4ff4-ed33-6596c19205cd"
      },
      "execution_count": 355,
      "outputs": [
        {
          "output_type": "execute_result",
          "data": {
            "text/plain": [
              "[[],\n",
              " ['g4e6'],\n",
              " ['e8d8'],\n",
              " ['e6f7'],\n",
              " [],\n",
              " ['f7f2'],\n",
              " ['c6d5'],\n",
              " [],\n",
              " [],\n",
              " [],\n",
              " ['b8c8'],\n",
              " [],\n",
              " [],\n",
              " ['e7c6'],\n",
              " ['a7b6']]"
            ]
          },
          "metadata": {},
          "execution_count": 355
        }
      ]
    },
    {
      "cell_type": "code",
      "source": [
        "for i, moves in enumerate(detected_moves):\n",
        "\n",
        "    if (len(moves) > 1):\n",
        "        max_conf_id = 0\n",
        "        frame_conf = frames_confs[i]\n",
        "\n",
        "    # transform to PGN\n"
      ],
      "metadata": {
        "id": "lfYzprSN7lLQ"
      },
      "execution_count": 278,
      "outputs": []
    },
    {
      "cell_type": "code",
      "source": [
        "while (len(detected_moves[0]) == 0):\n",
        "    encoded_frames.pop(0)\n",
        "    detected_moves.pop(0)\n",
        "\n",
        "pgn_string = \"\"\n",
        "first_move_color = get_turn_start(encoded_frames[0], detected_moves[0][0])\n",
        "move_number = 1\n",
        "check = False\n",
        "\n",
        "san_moves = []\n",
        "for i, move in enumerate(detected_moves):\n",
        "    if (len(move) > 0):\n",
        "        san_moves.append(uci_to_san(encoded_frames[i], move[0]))\n",
        "\n",
        "for i, move in enumerate(san_moves):\n",
        "    if first_move_color == \"b\":\n",
        "      if i % 2 == 0:\n",
        "        if not check:\n",
        "          pgn_string += str(move_number) + \". \" + \"... \" + move + \" \"\n",
        "          move_number += 1\n",
        "          check = True\n",
        "        else:\n",
        "          pgn_string += move + \" \"\n",
        "          move_number += 1\n",
        "      else:\n",
        "        pgn_string += str(move_number) + \". \" + move + \" \"\n",
        "    else:\n",
        "      if i % 2 == 0:\n",
        "        pgn_string += str(move_number) + \". \" + move + \" \"\n",
        "      else:\n",
        "        pgn_string += move + \" \"\n",
        "        move_number += 1\n",
        "\n",
        "pgn_string = pgn_string.strip()\n",
        "print(pgn_string)"
      ],
      "metadata": {
        "colab": {
          "base_uri": "https://localhost:8080/"
        },
        "id": "p8bBG0uz_ngA",
        "outputId": "17178e2b-b374-4b9e-f822-aa0b127380d5"
      },
      "execution_count": 453,
      "outputs": [
        {
          "output_type": "stream",
          "name": "stdout",
          "text": [
            "1. Bxb5 b6 2. c4 Ne7 3. Rb2\n"
          ]
        }
      ]
    },
    {
      "cell_type": "code",
      "source": [],
      "metadata": {
        "id": "u4fTnDK7A8ep"
      },
      "execution_count": null,
      "outputs": []
    }
  ],
  "metadata": {
    "accelerator": "GPU",
    "colab": {
      "collapsed_sections": [
        "KcdZRNVPmfRH",
        "w4rCBTd2HJX6"
      ],
      "gpuType": "T4",
      "provenance": []
    },
    "kernelspec": {
      "display_name": "Python 3",
      "name": "python3"
    },
    "language_info": {
      "name": "python"
    }
  },
  "nbformat": 4,
  "nbformat_minor": 0
}