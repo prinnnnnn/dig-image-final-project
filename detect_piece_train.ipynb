{
  "nbformat": 4,
  "nbformat_minor": 0,
  "metadata": {
    "colab": {
      "provenance": []
    },
    "kernelspec": {
      "name": "python3",
      "display_name": "Python 3"
    },
    "language_info": {
      "name": "python"
    }
  },
  "cells": [
    {
      "cell_type": "markdown",
      "source": [
        "# Import libraries"
      ],
      "metadata": {
        "id": "bQRu7FrZpUSE"
      }
    },
    {
      "cell_type": "code",
      "source": [
        "import kagglehub\n",
        "import torch\n",
        "import torch.nn as nn\n",
        "import torch.optim as optim\n",
        "from torch.utils.data import DataLoader, Dataset, random_split\n",
        "from torchvision import transforms, datasets, models\n",
        "from torchvision.datasets import ImageFolder\n",
        "import numpy as np\n",
        "import matplotlib.pyplot as plt"
      ],
      "metadata": {
        "id": "jlr_wZlEpYOK"
      },
      "execution_count": 46,
      "outputs": []
    },
    {
      "cell_type": "code",
      "source": [
        "!pip install ultralytics==8.3.40\n",
        "!pip install roboflow"
      ],
      "metadata": {
        "id": "DH_-NKRP5_7G"
      },
      "execution_count": null,
      "outputs": []
    },
    {
      "cell_type": "code",
      "source": [
        "import ultralytics\n",
        "ultralytics.checks()"
      ],
      "metadata": {
        "colab": {
          "base_uri": "https://localhost:8080/"
        },
        "id": "nOQfhE9iqFZ3",
        "outputId": "e971c652-0d4c-4dfb-bc72-88e8e794f569"
      },
      "execution_count": 31,
      "outputs": [
        {
          "output_type": "stream",
          "name": "stdout",
          "text": [
            "bishop_resized\tknight-resize  pawn_resized  Queen-Resized  Rook-resize\n"
          ]
        }
      ]
    },
    {
      "cell_type": "code",
      "source": [
        "from ultralytics import YOLO\n",
        "from ultralytics import settings\n",
        "from IPython.display import display, Image\n",
        "from roboflow import Roboflow"
      ],
      "metadata": {
        "id": "pbZRbppL6D_O"
      },
      "execution_count": null,
      "outputs": []
    },
    {
      "cell_type": "code",
      "source": [
        "model = YOLO(\"yolov8n.pt\")"
      ],
      "metadata": {
        "id": "oDGMTxky6FlN"
      },
      "execution_count": null,
      "outputs": []
    },
    {
      "cell_type": "code",
      "source": [
        "API_KEY = input(\"Enter Roboflow API key: \")\n",
        "rf = Roboflow(api_key=API_KEY)\n",
        "project = rf.workspace(\"digimageproject\").project(\"chess-y67ho\")\n",
        "version = project.version(1)\n",
        "dataset = version.download(\"yolov8\")"
      ],
      "metadata": {
        "id": "w-5vSG126_0D"
      },
      "execution_count": null,
      "outputs": []
    },
    {
      "cell_type": "code",
      "source": [
        "train_result = model.train(data='/content/Chess-1/data.yaml', epochs=20)"
      ],
      "metadata": {
        "id": "Hk8wpjwC7Er4"
      },
      "execution_count": null,
      "outputs": []
    }
  ]
}