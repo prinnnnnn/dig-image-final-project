{
  "nbformat": 4,
  "nbformat_minor": 0,
  "metadata": {
    "colab": {
      "provenance": [],
      "toc_visible": true,
      "collapsed_sections": [
        "KcdZRNVPmfRH",
        "q02C8B1Uqbn1",
        "1DR2-p7zrW_j"
      ],
      "gpuType": "T4"
    },
    "kernelspec": {
      "name": "python3",
      "display_name": "Python 3"
    },
    "language_info": {
      "name": "python"
    },
    "accelerator": "GPU"
  },
  "cells": [
    {
      "cell_type": "markdown",
      "source": [
        "# Mount Drive"
      ],
      "metadata": {
        "id": "8pEA71vm3fQl"
      }
    },
    {
      "cell_type": "code",
      "source": [
        "from google.colab import drive\n",
        "drive.mount('/content/drive')"
      ],
      "metadata": {
        "colab": {
          "base_uri": "https://localhost:8080/"
        },
        "id": "f1WiEUhVk6kf",
        "outputId": "c1c2629c-ab24-4b33-c190-3a83c766c149"
      },
      "execution_count": 1,
      "outputs": [
        {
          "output_type": "stream",
          "name": "stdout",
          "text": [
            "Mounted at /content/drive\n"
          ]
        }
      ]
    },
    {
      "cell_type": "code",
      "source": [
        "!ls \"/content/drive/MyDrive/Digital Imaging/final-project/8_move_frames\""
      ],
      "metadata": {
        "colab": {
          "base_uri": "https://localhost:8080/"
        },
        "id": "Z-OVC8OllTHP",
        "outputId": "92b4e5a1-5ac5-4b49-cae1-cb7420a52849"
      },
      "execution_count": 2,
      "outputs": [
        {
          "output_type": "stream",
          "name": "stdout",
          "text": [
            "img10.jpg  img13.jpg  img16.jpg  img19.jpg  img3.jpg  img6.jpg\timg9.jpg\n",
            "img11.jpg  img14.jpg  img17.jpg  img1.jpg   img4.jpg  img7.jpg\n",
            "img12.jpg  img15.jpg  img18.jpg  img2.jpg   img5.jpg  img8.jpg\n"
          ]
        }
      ]
    },
    {
      "cell_type": "code",
      "source": [
        "# folder of frames from videoes\n",
        "folder_path = \"/content/drive/MyDrive/Digital Imaging/final-project/8_move_frames\""
      ],
      "metadata": {
        "id": "locfP9YSJ4Rx"
      },
      "execution_count": 3,
      "outputs": []
    },
    {
      "cell_type": "code",
      "source": [
        "import shutil\n",
        "\n",
        "def save_folder_to_drive(colab_folder_path, drive_folder_path, mount_drive = False):\n",
        "    \"\"\"\n",
        "    Saves a folder from the Colab runtime to a directory in Google Drive.\n",
        "\n",
        "    Args:\n",
        "        colab_folder_path (str): Path to the folder in the Colab runtime.\n",
        "        drive_folder_path (str): Path to the destination folder in Google Drive.\n",
        "\n",
        "    Returns:\n",
        "        str: Message indicating success or error.\n",
        "    \"\"\"\n",
        "    try:\n",
        "        if (mount_drive):\n",
        "            drive.mount('/content/drive')\n",
        "\n",
        "        # Ensure the Google Drive directory exists\n",
        "        full_drive_path = os.path.join('/content/drive/My Drive', drive_folder_path)\n",
        "        if not os.path.exists(full_drive_path):\n",
        "            os.makedirs(full_drive_path)\n",
        "\n",
        "        # Copy the folder from Colab runtime to Google Drive\n",
        "        shutil.copytree(colab_folder_path, os.path.join(full_drive_path, os.path.basename(colab_folder_path)))\n",
        "\n",
        "        return f\"Folder successfully saved to {os.path.join(full_drive_path, os.path.basename(colab_folder_path))}\"\n",
        "    except Exception as e:\n",
        "        return f\"An error occurred: {e}\""
      ],
      "metadata": {
        "id": "GCkdu9SM4u5F"
      },
      "execution_count": 4,
      "outputs": []
    },
    {
      "cell_type": "markdown",
      "source": [
        "# Board Mapping"
      ],
      "metadata": {
        "id": "SqxZk02imj9P"
      }
    },
    {
      "cell_type": "markdown",
      "source": [
        "## Import Libraries"
      ],
      "metadata": {
        "id": "8GoSRRz1mcBz"
      }
    },
    {
      "cell_type": "code",
      "source": [
        "import math\n",
        "import operator\n",
        "import sys\n",
        "from collections import defaultdict\n",
        "\n",
        "import numpy as np\n",
        "import cv2\n",
        "\n",
        "import scipy.spatial as spatial\n",
        "import scipy.cluster as clstr\n",
        "import matplotlib.pyplot as plt\n",
        "\n",
        "import glob\n",
        "import os"
      ],
      "metadata": {
        "id": "zNg_4A5kJ7bw"
      },
      "execution_count": 13,
      "outputs": []
    },
    {
      "cell_type": "markdown",
      "source": [
        "## Functions"
      ],
      "metadata": {
        "id": "KcdZRNVPmfRH"
      }
    },
    {
      "cell_type": "code",
      "source": [
        "def canny(img):\n",
        "    # Maybe add some auto thresholding here\n",
        "    edges = cv2.Canny(img, 80, 200)\n",
        "    return edges\n",
        "\n",
        "\n",
        "def hough_lines(img):\n",
        "    rho, theta, thresh = 2, np.pi / 180, 600\n",
        "    return cv2.HoughLines(img, rho, theta, thresh)\n",
        "\n",
        "\n",
        "def sort_lines(lines):\n",
        "    \"\"\"\n",
        "    Sorts lines by horizontal and vertical\n",
        "    \"\"\"\n",
        "    h = []\n",
        "    v = []\n",
        "    for i in range(lines.shape[0]):\n",
        "        rho = lines[i][0][0]\n",
        "        theta = lines[i][0][1]\n",
        "        if theta < np.pi / 4 or theta > np.pi - np.pi / 4:\n",
        "            v.append([rho, theta])\n",
        "        else:\n",
        "            h.append([rho, theta])\n",
        "    return h, v\n",
        "\n",
        "\n",
        "def calculate_intersections(h, v):\n",
        "    \"\"\"\n",
        "    Finds the intersection of two lines given in Hesse normal form.\n",
        "    See https://stackoverflow.com/a/383527/5087436\n",
        "    \"\"\"\n",
        "    points = []\n",
        "    for rho1, theta1 in h:\n",
        "        for rho2, theta2 in v:\n",
        "            A = np.array([\n",
        "                [np.cos(theta1), np.sin(theta1)],\n",
        "                [np.cos(theta2), np.sin(theta2)]\n",
        "            ])\n",
        "            b = np.array([[rho1], [rho2]])\n",
        "            point = np.linalg.solve(A, b)\n",
        "            point = int(np.round(point[0])), int(np.round(point[1]))\n",
        "            points.append(point)\n",
        "    return np.array(points)\n",
        "\n",
        "\n",
        "def cluster_intersections(points, max_dist=40):\n",
        "    # I want to change this to kmeans\n",
        "    Y = spatial.distance.pdist(points)\n",
        "    Z = clstr.hierarchy.single(Y)\n",
        "    T = clstr.hierarchy.fcluster(Z, max_dist, 'distance')\n",
        "    clusters = defaultdict(list)\n",
        "    for i in range(len(T)):\n",
        "        clusters[T[i]].append(points[i])\n",
        "    clusters = clusters.values()\n",
        "    clusters = map(lambda arr: (np.mean(np.array(arr)[:, 0]), np.mean(np.array(arr)[:, 1])), clusters)\n",
        "\n",
        "    result = []\n",
        "    for point in clusters:\n",
        "        result.append([point[0], point[1]])\n",
        "    return result\n",
        "\n",
        "\n",
        "def find_chessboard_corners(points):\n",
        "    \"\"\"\n",
        "    Code from https://medium.com/@neshpatel/solving-sudoku-part-ii-9a7019d196a2\n",
        "    \"\"\"\n",
        "    # Bottom-right point has the largest (x + y) value\n",
        "    # Top-left has point smallest (x + y) value\n",
        "    # Bottom-left point has smallest (x - y) value\n",
        "    # Top-right point has largest (x - y) value\n",
        "    bottom_right, _ = max(enumerate([pt[0] + pt[1] for pt in points]), key=operator.itemgetter(1))\n",
        "    top_left, _ = min(enumerate([pt[0] + pt[1] for pt in points]), key=operator.itemgetter(1))\n",
        "    bottom_left, _ = min(enumerate([pt[0] - pt[1] for pt in points]), key=operator.itemgetter(1))\n",
        "    top_right, _ = max(enumerate([pt[0] - pt[1] for pt in points]), key=operator.itemgetter(1))\n",
        "    return [points[top_left], points[top_right], points[bottom_left], points[bottom_right]]\n",
        "\n",
        "\n",
        "def distance_between(p1, p2):\n",
        "    \"\"\"\n",
        "    Code from https://medium.com/@neshpatel/solving-sudoku-part-ii-9a7019d196a2\n",
        "    \"\"\"\n",
        "    a = p2[0] - p1[0]\n",
        "    b = p2[1] - p1[1]\n",
        "    return np.sqrt((a ** 2) + (b ** 2))\n",
        "\n",
        "\n",
        "def warp_image(img, edges):\n",
        "    \"\"\"\n",
        "    Code from https://medium.com/@neshpatel/solving-sudoku-part-ii-9a7019d196a2\n",
        "    \"\"\"\n",
        "    top_left, top_right, bottom_left, bottom_right = edges[0], edges[1], edges[2], edges[3]\n",
        "\n",
        "    # Explicitly set the data type to float32 or 'getPerspectiveTransform' will throw an error\n",
        "    warp_src = np.array([top_left, top_right, bottom_right, bottom_left], dtype='float32')\n",
        "\n",
        "    side = max([\n",
        "        distance_between(bottom_right, top_right),\n",
        "        distance_between(top_left, bottom_left),\n",
        "        distance_between(bottom_right, bottom_left),\n",
        "        distance_between(top_left, top_right)\n",
        "    ])\n",
        "\n",
        "    # Describe a square with side of the calculated length, this is the new perspective we want to warp to\n",
        "    warp_dst = np.array([[0, 0], [side - 1, 0], [side - 1, side - 1], [0, side - 1]], dtype='float32')\n",
        "\n",
        "    # Gets the transformation matrix for skewing the image to fit a square by comparing the 4 before and after points\n",
        "    m = cv2.getPerspectiveTransform(warp_src, warp_dst)\n",
        "\n",
        "    # Performs the transformation on the original image\n",
        "    return cv2.warpPerspective(img, m, (int(side), int(side)))\n",
        "\n",
        "\n",
        "def cut_chessboard(img, output_path, output_prefix=\"\"):\n",
        "    side_len = int(img.shape[0] / 8)\n",
        "    for i in range(8):\n",
        "        for j in range(8):\n",
        "            tile = img[i * side_len: (i + 1) * side_len, j * side_len: (j + 1) * side_len]\n",
        "            cv2.imwrite(output_path + output_prefix + \"-\" + str(j + i * 8) + \".jpg\", tile)\n",
        "\n",
        "\n",
        "def resize_image(img):\n",
        "    \"\"\"\n",
        "    Resizes image to a maximum width of 800px\n",
        "    \"\"\"\n",
        "    width = img.shape[1]\n",
        "    if width > 800:\n",
        "        scale = 800 / width\n",
        "        return cv2.resize(img, None, fx=scale, fy=scale)\n",
        "    else:\n",
        "        return img\n",
        "\n",
        "\n",
        "def process_chessboard(src_path, output_path, output_prefix=\"\", debug=False, count=0):\n",
        "    src = cv2.imread(src_path)\n",
        "\n",
        "    if src is None:\n",
        "        sys.exit(\"There is no file with this path!\")\n",
        "\n",
        "    src = resize_image(src)\n",
        "    src_copy = src.copy()\n",
        "\n",
        "    # Convert to grayscale\n",
        "    process = cv2.cvtColor(src, cv2.COLOR_BGR2GRAY)\n",
        "\n",
        "    if debug:\n",
        "        plt.imshow(process)\n",
        "        plt.show()\n",
        "\n",
        "    # Blur to remove disturbing things\n",
        "    process = cv2.blur(process, (4, 4))\n",
        "\n",
        "    if debug:\n",
        "        plt.imshow(process)\n",
        "        plt.show()\n",
        "\n",
        "    # Use Canny Edge Detector https://en.wikipedia.org/wiki/Canny_edge_detector\n",
        "    process = canny(process)\n",
        "\n",
        "    if debug:\n",
        "        plt.imshow(process)\n",
        "        plt.show()\n",
        "\n",
        "    # Dilate image (thicker lines)\n",
        "    process = cv2.dilate(process, np.ones((3, 3), dtype=np.uint8))\n",
        "\n",
        "    if debug:\n",
        "        plt.imshow(process)\n",
        "        plt.show()\n",
        "    # Use Hough transform to detect lines https://en.wikipedia.org/wiki/Hough_transform\n",
        "    lines = hough_lines(process)\n",
        "\n",
        "    # Sort lines by horizontal and vertical\n",
        "    h, v = sort_lines(lines)\n",
        "\n",
        "    if debug:\n",
        "        render_lines(src_copy, h, (0, 255, 0))\n",
        "        render_lines(src_copy, v, (0, 0, 255))\n",
        "        plt.imshow(process)\n",
        "        plt.show()\n",
        "\n",
        "    if len(h) < 9 or len(v) < 9:\n",
        "        print(\"There are not enough horizontal and vertical lines in this image. Try it anyway!\")\n",
        "\n",
        "    # Calculate intersections of the horizontal and vertical lines\n",
        "    intersections = calculate_intersections(h, v)\n",
        "\n",
        "    if debug:\n",
        "        render_intersections(src_copy, intersections, (255, 0, 0), 1)\n",
        "        plt.imshow(process)\n",
        "        plt.show()\n",
        "\n",
        "    # Cluster intersection since there are many\n",
        "    clustered = cluster_intersections(intersections)\n",
        "\n",
        "    if debug:\n",
        "        src_copy = src.copy()\n",
        "        render_intersections(src_copy, clustered, (255, 0, 0), 5)\n",
        "        plt.imshow(process)\n",
        "        plt.show()\n",
        "\n",
        "    if len(clustered) != 81:\n",
        "        print(\"Something is wrong. There are \" + str(len(intersections)) + \" instead of 81 intersections.\")\n",
        "\n",
        "    # Find outer corners of the chessboard\n",
        "    corners = find_chessboard_corners(clustered)\n",
        "\n",
        "    if debug:\n",
        "        src_copy = src.copy()\n",
        "        render_intersections(src_copy, corners, (255, 0, 0), 5)\n",
        "        plt.imshow(process)\n",
        "        plt.show()\n",
        "\n",
        "    # Warp and crop image\n",
        "    dst = warp_image(src, corners)\n",
        "    try:\n",
        "        cv2.imwrite(output_path + \"crop\" + str(count) + \".jpg\", dst)\n",
        "    except:\n",
        "        print(\"upload fail\")\n",
        "    plt.show()\n",
        "    if debug:\n",
        "        plt.imshow(process)\n",
        "        plt.show()\n",
        "\n",
        "def render_lines(img, lines, color):\n",
        "    for rho, theta in lines:\n",
        "        a = math.cos(theta)\n",
        "        b = math.sin(theta)\n",
        "        x0, y0 = a * rho, b * rho\n",
        "        pt1 = (int(x0 + 1000 * (-b)), int(y0 + 1000 * a))\n",
        "        pt2 = (int(x0 - 1000 * (-b)), int(y0 - 1000 * a))\n",
        "        cv2.line(img, pt1, pt2, color, 1, cv2.LINE_AA)\n",
        "\n",
        "\n",
        "def render_intersections(img, points, color, size):\n",
        "    for point in points:\n",
        "        cv2.circle(img, (int(point[0]), int(point[1])), 2, color, size)"
      ],
      "metadata": {
        "id": "VXk-3mdvcpLS"
      },
      "execution_count": 14,
      "outputs": []
    },
    {
      "cell_type": "code",
      "source": [
        "def line_intersections(h_lines, v_lines):\n",
        "  points = []\n",
        "  for x,[r_h, t_h] in h_lines:\n",
        "    row = []\n",
        "    for y,[r_v, t_v] in v_lines:\n",
        "      a = np.array([[np.cos(t_h), np.sin(t_h)], [np.cos(t_v), np.sin(t_v)]])\n",
        "      b = np.array([r_h, r_v])\n",
        "      inter_point = np.linalg.solve(a, b)\n",
        "      row.append((int(inter_point[0]),int(inter_point[1])))\n",
        "    points.append(row)\n",
        "  return np.array(points)"
      ],
      "metadata": {
        "id": "ARhpLfNqy9GJ"
      },
      "execution_count": 15,
      "outputs": []
    },
    {
      "cell_type": "code",
      "source": [
        "def plot_grid(image, verbose = False):\n",
        "  def get_lines(lines,length,isHorizon):\n",
        "    tmp,res, =[],[]\n",
        "    for rho, theta in lines:\n",
        "        a = math.cos(theta)\n",
        "        b = math.sin(theta)\n",
        "        x0, y0 = a * rho, b * rho\n",
        "        pts = [int(x0 + 1000 * (-b)), int(y0 + 1000 * a) ,int(x0 - 1000 * (-b)), int(y0 - 1000 * a)]\n",
        "        if(isHorizon):\n",
        "          tmp.append([max(pts[1],pts[3]),[rho,theta]])\n",
        "        else:\n",
        "          tmp.append([max(pts[0],pts[2]),[rho,theta]])\n",
        "    tmp.sort()\n",
        "    mean = length/8\n",
        "    cur = tmp[0]\n",
        "    for i in range(len(tmp)):\n",
        "      if(abs(abs(tmp[i][0]-cur[0])-mean)<=25):\n",
        "        res.append(cur)\n",
        "        cur = tmp[i]\n",
        "      if(i==len(tmp)-1 and len(res)<9):\n",
        "        res.append(cur)\n",
        "    return res\n",
        "\n",
        "  def locate_board(h,v,r_size,c_size):\n",
        "    start_point = (v[0],h[0])\n",
        "    row_length = v[-1]-v[0]\n",
        "    col_length = h[-1]-h[0]\n",
        "    return start_point,row_length,col_length\n",
        "\n",
        "\n",
        "\n",
        "  img = image.copy()\n",
        "  img = cv2.cvtColor(img, cv2.COLOR_BGR2GRAY)\n",
        "  img = canny(img)\n",
        "  img = cv2.dilate(img, np.ones((3, 3), dtype=np.uint8),3)\n",
        "  lines = hough_lines(img)\n",
        "  h, v = sort_lines(lines)\n",
        "  h = get_lines(h,image.shape[0],True)\n",
        "  v = get_lines(v,image.shape[1],False)\n",
        "  points = line_intersections(h,v)\n",
        "\n",
        "  table = []\n",
        "  for i in range(8):\n",
        "    rr = []\n",
        "    for j in range(8):\n",
        "        rr.append([points[i][j][0],points[i][j][1],points[i+1][j+1][0],points[i+1][j+1][1]])\n",
        "    #   rr.append([points[j][i][0],points[j][i][1],points[j+1][i+1][0],points[j+1][i+1][1]])\n",
        "    table.append(rr)\n",
        "\n",
        "\n",
        "  for r in table:\n",
        "    for pts in r:\n",
        "      cv2.rectangle(image, (pts[0], pts[1]), (pts[2], pts[3]), (0, 255, 0), 2)\n",
        "\n",
        "  if (verbose):\n",
        "    plt.imshow(image)\n",
        "    plt.show()\n",
        "\n",
        "  return table"
      ],
      "metadata": {
        "id": "vp2J_1hJ1Fr7"
      },
      "execution_count": 16,
      "outputs": []
    },
    {
      "cell_type": "markdown",
      "source": [
        "## Map board"
      ],
      "metadata": {
        "id": "Yn-P9O3ZmpIo"
      }
    },
    {
      "cell_type": "code",
      "source": [
        "!rm -rf \"/content/output\"\n",
        "!mkdir \"/content/output\""
      ],
      "metadata": {
        "id": "FhSsk2wWyOlK"
      },
      "execution_count": 17,
      "outputs": []
    },
    {
      "cell_type": "code",
      "source": [
        "output_path = 'output/'\n",
        "\n",
        "filenames = os.listdir(folder_path)\n",
        "data = []\n",
        "\n",
        "for filename in filenames:\n",
        "    frame_id = int(filename.split(\".\")[0].strip(\"img\"))\n",
        "    data.append((frame_id, filename))\n",
        "data.sort()\n",
        "\n",
        "\n",
        "for (cnt, path) in data:\n",
        "    full_path = os.path.join(folder_path, path)\n",
        "    process_chessboard(full_path, \"output/\", \"\", False, cnt)"
      ],
      "metadata": {
        "id": "_azdapP0nk0x",
        "colab": {
          "base_uri": "https://localhost:8080/"
        },
        "outputId": "5819a19f-19b1-424a-96ee-dcc202252138",
        "collapsed": true
      },
      "execution_count": 18,
      "outputs": [
        {
          "output_type": "stream",
          "name": "stderr",
          "text": [
            "<ipython-input-14-10b2beae692d>:42: DeprecationWarning: Conversion of an array with ndim > 0 to a scalar is deprecated, and will error in future. Ensure you extract a single element from your array before performing this operation. (Deprecated NumPy 1.25.)\n",
            "  point = int(np.round(point[0])), int(np.round(point[1]))\n"
          ]
        },
        {
          "output_type": "stream",
          "name": "stdout",
          "text": [
            "Something is wrong. There are 224 instead of 81 intersections.\n",
            "Something is wrong. There are 342 instead of 81 intersections.\n",
            "Something is wrong. There are 238 instead of 81 intersections.\n",
            "Something is wrong. There are 221 instead of 81 intersections.\n",
            "Something is wrong. There are 266 instead of 81 intersections.\n",
            "Something is wrong. There are 324 instead of 81 intersections.\n",
            "Something is wrong. There are 272 instead of 81 intersections.\n",
            "Something is wrong. There are 323 instead of 81 intersections.\n",
            "Something is wrong. There are 342 instead of 81 intersections.\n",
            "Something is wrong. There are 340 instead of 81 intersections.\n",
            "Something is wrong. There are 306 instead of 81 intersections.\n",
            "Something is wrong. There are 252 instead of 81 intersections.\n",
            "Something is wrong. There are 270 instead of 81 intersections.\n",
            "Something is wrong. There are 270 instead of 81 intersections.\n",
            "Something is wrong. There are 306 instead of 81 intersections.\n",
            "Something is wrong. There are 225 instead of 81 intersections.\n",
            "Something is wrong. There are 256 instead of 81 intersections.\n"
          ]
        }
      ]
    },
    {
      "cell_type": "code",
      "source": [
        "cropped_filenames = os.listdir(\"output/\")\n",
        "cropped_filenames.sort(key=lambda s: int(s.split(\".\")[0][4:]))\n",
        "frames_corners = []\n",
        "\n",
        "for path in cropped_filenames:\n",
        "    img = cv2.imread(os.path.join(\"output/\", path))\n",
        "    tb = plot_grid(img, verbose = False)\n",
        "    frames_corners.append(np.array(tb))"
      ],
      "metadata": {
        "id": "3q7R9OqfCE8N",
        "collapsed": true
      },
      "execution_count": 34,
      "outputs": []
    },
    {
      "cell_type": "code",
      "source": [
        "assert len(frames_corners) == len(os.listdir(folder_path))"
      ],
      "metadata": {
        "id": "FN6kY5-Yp2kS"
      },
      "execution_count": 20,
      "outputs": []
    },
    {
      "cell_type": "markdown",
      "source": [
        "# YOLO setup"
      ],
      "metadata": {
        "id": "sYGw4k5oolj-"
      }
    },
    {
      "cell_type": "markdown",
      "source": [
        "## Ultralytics setup"
      ],
      "metadata": {
        "id": "Q-XHg7gUqOwr"
      }
    },
    {
      "cell_type": "code",
      "source": [
        "!pip install ultralytics==8.3.40"
      ],
      "metadata": {
        "colab": {
          "base_uri": "https://localhost:8080/"
        },
        "id": "zbbSin7UonRI",
        "outputId": "bb066243-8141-49ae-bc1d-ff3e41250681"
      },
      "execution_count": 5,
      "outputs": [
        {
          "output_type": "stream",
          "name": "stdout",
          "text": [
            "Collecting ultralytics==8.3.40\n",
            "  Downloading ultralytics-8.3.40-py3-none-any.whl.metadata (35 kB)\n",
            "Requirement already satisfied: numpy>=1.23.0 in /usr/local/lib/python3.10/dist-packages (from ultralytics==8.3.40) (1.26.4)\n",
            "Requirement already satisfied: matplotlib>=3.3.0 in /usr/local/lib/python3.10/dist-packages (from ultralytics==8.3.40) (3.8.0)\n",
            "Requirement already satisfied: opencv-python>=4.6.0 in /usr/local/lib/python3.10/dist-packages (from ultralytics==8.3.40) (4.10.0.84)\n",
            "Requirement already satisfied: pillow>=7.1.2 in /usr/local/lib/python3.10/dist-packages (from ultralytics==8.3.40) (11.0.0)\n",
            "Requirement already satisfied: pyyaml>=5.3.1 in /usr/local/lib/python3.10/dist-packages (from ultralytics==8.3.40) (6.0.2)\n",
            "Requirement already satisfied: requests>=2.23.0 in /usr/local/lib/python3.10/dist-packages (from ultralytics==8.3.40) (2.32.3)\n",
            "Requirement already satisfied: scipy>=1.4.1 in /usr/local/lib/python3.10/dist-packages (from ultralytics==8.3.40) (1.13.1)\n",
            "Requirement already satisfied: torch>=1.8.0 in /usr/local/lib/python3.10/dist-packages (from ultralytics==8.3.40) (2.5.1+cu121)\n",
            "Requirement already satisfied: torchvision>=0.9.0 in /usr/local/lib/python3.10/dist-packages (from ultralytics==8.3.40) (0.20.1+cu121)\n",
            "Requirement already satisfied: tqdm>=4.64.0 in /usr/local/lib/python3.10/dist-packages (from ultralytics==8.3.40) (4.66.6)\n",
            "Requirement already satisfied: psutil in /usr/local/lib/python3.10/dist-packages (from ultralytics==8.3.40) (5.9.5)\n",
            "Requirement already satisfied: py-cpuinfo in /usr/local/lib/python3.10/dist-packages (from ultralytics==8.3.40) (9.0.0)\n",
            "Requirement already satisfied: pandas>=1.1.4 in /usr/local/lib/python3.10/dist-packages (from ultralytics==8.3.40) (2.2.2)\n",
            "Requirement already satisfied: seaborn>=0.11.0 in /usr/local/lib/python3.10/dist-packages (from ultralytics==8.3.40) (0.13.2)\n",
            "Collecting ultralytics-thop>=2.0.0 (from ultralytics==8.3.40)\n",
            "  Downloading ultralytics_thop-2.0.13-py3-none-any.whl.metadata (9.4 kB)\n",
            "Requirement already satisfied: contourpy>=1.0.1 in /usr/local/lib/python3.10/dist-packages (from matplotlib>=3.3.0->ultralytics==8.3.40) (1.3.1)\n",
            "Requirement already satisfied: cycler>=0.10 in /usr/local/lib/python3.10/dist-packages (from matplotlib>=3.3.0->ultralytics==8.3.40) (0.12.1)\n",
            "Requirement already satisfied: fonttools>=4.22.0 in /usr/local/lib/python3.10/dist-packages (from matplotlib>=3.3.0->ultralytics==8.3.40) (4.55.1)\n",
            "Requirement already satisfied: kiwisolver>=1.0.1 in /usr/local/lib/python3.10/dist-packages (from matplotlib>=3.3.0->ultralytics==8.3.40) (1.4.7)\n",
            "Requirement already satisfied: packaging>=20.0 in /usr/local/lib/python3.10/dist-packages (from matplotlib>=3.3.0->ultralytics==8.3.40) (24.2)\n",
            "Requirement already satisfied: pyparsing>=2.3.1 in /usr/local/lib/python3.10/dist-packages (from matplotlib>=3.3.0->ultralytics==8.3.40) (3.2.0)\n",
            "Requirement already satisfied: python-dateutil>=2.7 in /usr/local/lib/python3.10/dist-packages (from matplotlib>=3.3.0->ultralytics==8.3.40) (2.8.2)\n",
            "Requirement already satisfied: pytz>=2020.1 in /usr/local/lib/python3.10/dist-packages (from pandas>=1.1.4->ultralytics==8.3.40) (2024.2)\n",
            "Requirement already satisfied: tzdata>=2022.7 in /usr/local/lib/python3.10/dist-packages (from pandas>=1.1.4->ultralytics==8.3.40) (2024.2)\n",
            "Requirement already satisfied: charset-normalizer<4,>=2 in /usr/local/lib/python3.10/dist-packages (from requests>=2.23.0->ultralytics==8.3.40) (3.4.0)\n",
            "Requirement already satisfied: idna<4,>=2.5 in /usr/local/lib/python3.10/dist-packages (from requests>=2.23.0->ultralytics==8.3.40) (3.10)\n",
            "Requirement already satisfied: urllib3<3,>=1.21.1 in /usr/local/lib/python3.10/dist-packages (from requests>=2.23.0->ultralytics==8.3.40) (2.2.3)\n",
            "Requirement already satisfied: certifi>=2017.4.17 in /usr/local/lib/python3.10/dist-packages (from requests>=2.23.0->ultralytics==8.3.40) (2024.8.30)\n",
            "Requirement already satisfied: filelock in /usr/local/lib/python3.10/dist-packages (from torch>=1.8.0->ultralytics==8.3.40) (3.16.1)\n",
            "Requirement already satisfied: typing-extensions>=4.8.0 in /usr/local/lib/python3.10/dist-packages (from torch>=1.8.0->ultralytics==8.3.40) (4.12.2)\n",
            "Requirement already satisfied: networkx in /usr/local/lib/python3.10/dist-packages (from torch>=1.8.0->ultralytics==8.3.40) (3.4.2)\n",
            "Requirement already satisfied: jinja2 in /usr/local/lib/python3.10/dist-packages (from torch>=1.8.0->ultralytics==8.3.40) (3.1.4)\n",
            "Requirement already satisfied: fsspec in /usr/local/lib/python3.10/dist-packages (from torch>=1.8.0->ultralytics==8.3.40) (2024.10.0)\n",
            "Requirement already satisfied: sympy==1.13.1 in /usr/local/lib/python3.10/dist-packages (from torch>=1.8.0->ultralytics==8.3.40) (1.13.1)\n",
            "Requirement already satisfied: mpmath<1.4,>=1.1.0 in /usr/local/lib/python3.10/dist-packages (from sympy==1.13.1->torch>=1.8.0->ultralytics==8.3.40) (1.3.0)\n",
            "Requirement already satisfied: six>=1.5 in /usr/local/lib/python3.10/dist-packages (from python-dateutil>=2.7->matplotlib>=3.3.0->ultralytics==8.3.40) (1.16.0)\n",
            "Requirement already satisfied: MarkupSafe>=2.0 in /usr/local/lib/python3.10/dist-packages (from jinja2->torch>=1.8.0->ultralytics==8.3.40) (3.0.2)\n",
            "Downloading ultralytics-8.3.40-py3-none-any.whl (898 kB)\n",
            "\u001b[2K   \u001b[90m━━━━━━━━━━━━━━━━━━━━━━━━━━━━━━━━━━━━━━━━\u001b[0m \u001b[32m898.5/898.5 kB\u001b[0m \u001b[31m28.8 MB/s\u001b[0m eta \u001b[36m0:00:00\u001b[0m\n",
            "\u001b[?25hDownloading ultralytics_thop-2.0.13-py3-none-any.whl (26 kB)\n",
            "Installing collected packages: ultralytics-thop, ultralytics\n",
            "Successfully installed ultralytics-8.3.40 ultralytics-thop-2.0.13\n"
          ]
        }
      ]
    },
    {
      "cell_type": "code",
      "source": [
        "import ultralytics\n",
        "ultralytics.checks()"
      ],
      "metadata": {
        "colab": {
          "base_uri": "https://localhost:8080/"
        },
        "id": "CJfvKxadqDRu",
        "outputId": "0e314818-c6e4-4e4a-c37a-6ba36120752a"
      },
      "execution_count": 6,
      "outputs": [
        {
          "output_type": "stream",
          "name": "stdout",
          "text": [
            "Ultralytics 8.3.40 🚀 Python-3.10.12 torch-2.5.1+cu121 CUDA:0 (Tesla T4, 15102MiB)\n",
            "Setup complete ✅ (2 CPUs, 12.7 GB RAM, 32.6/235.7 GB disk)\n"
          ]
        }
      ]
    },
    {
      "cell_type": "code",
      "source": [
        "from ultralytics import YOLO\n",
        "from ultralytics import settings"
      ],
      "metadata": {
        "id": "FSU69lVLrS4x"
      },
      "execution_count": 7,
      "outputs": []
    },
    {
      "cell_type": "code",
      "source": [
        "model = YOLO(\"yolov8n.pt\")"
      ],
      "metadata": {
        "id": "mC4HBYK5suRo"
      },
      "execution_count": 11,
      "outputs": []
    },
    {
      "cell_type": "markdown",
      "source": [
        "# Detect pieces Train"
      ],
      "metadata": {
        "id": "w4rCBTd2HJX6"
      }
    },
    {
      "cell_type": "markdown",
      "source": [
        "## Roboflow Setup"
      ],
      "metadata": {
        "id": "q02C8B1Uqbn1"
      }
    },
    {
      "cell_type": "code",
      "source": [
        "!pip install roboflow"
      ],
      "metadata": {
        "colab": {
          "base_uri": "https://localhost:8080/"
        },
        "id": "rQ8Nw9vlqdFu",
        "outputId": "e60d7123-91fd-4b64-bf65-fa3d442545a2"
      },
      "execution_count": 16,
      "outputs": [
        {
          "output_type": "stream",
          "name": "stdout",
          "text": [
            "Collecting roboflow\n",
            "  Downloading roboflow-1.1.49-py3-none-any.whl.metadata (9.7 kB)\n",
            "Requirement already satisfied: certifi in /usr/local/lib/python3.10/dist-packages (from roboflow) (2024.8.30)\n",
            "Collecting idna==3.7 (from roboflow)\n",
            "  Downloading idna-3.7-py3-none-any.whl.metadata (9.9 kB)\n",
            "Requirement already satisfied: cycler in /usr/local/lib/python3.10/dist-packages (from roboflow) (0.12.1)\n",
            "Requirement already satisfied: kiwisolver>=1.3.1 in /usr/local/lib/python3.10/dist-packages (from roboflow) (1.4.7)\n",
            "Requirement already satisfied: matplotlib in /usr/local/lib/python3.10/dist-packages (from roboflow) (3.8.0)\n",
            "Requirement already satisfied: numpy>=1.18.5 in /usr/local/lib/python3.10/dist-packages (from roboflow) (1.26.4)\n",
            "Requirement already satisfied: opencv-python-headless==4.10.0.84 in /usr/local/lib/python3.10/dist-packages (from roboflow) (4.10.0.84)\n",
            "Requirement already satisfied: Pillow>=7.1.2 in /usr/local/lib/python3.10/dist-packages (from roboflow) (11.0.0)\n",
            "Requirement already satisfied: python-dateutil in /usr/local/lib/python3.10/dist-packages (from roboflow) (2.8.2)\n",
            "Collecting python-dotenv (from roboflow)\n",
            "  Downloading python_dotenv-1.0.1-py3-none-any.whl.metadata (23 kB)\n",
            "Requirement already satisfied: requests in /usr/local/lib/python3.10/dist-packages (from roboflow) (2.32.3)\n",
            "Requirement already satisfied: six in /usr/local/lib/python3.10/dist-packages (from roboflow) (1.16.0)\n",
            "Requirement already satisfied: urllib3>=1.26.6 in /usr/local/lib/python3.10/dist-packages (from roboflow) (2.2.3)\n",
            "Requirement already satisfied: tqdm>=4.41.0 in /usr/local/lib/python3.10/dist-packages (from roboflow) (4.66.6)\n",
            "Requirement already satisfied: PyYAML>=5.3.1 in /usr/local/lib/python3.10/dist-packages (from roboflow) (6.0.2)\n",
            "Requirement already satisfied: requests-toolbelt in /usr/local/lib/python3.10/dist-packages (from roboflow) (1.0.0)\n",
            "Collecting filetype (from roboflow)\n",
            "  Downloading filetype-1.2.0-py2.py3-none-any.whl.metadata (6.5 kB)\n",
            "Requirement already satisfied: contourpy>=1.0.1 in /usr/local/lib/python3.10/dist-packages (from matplotlib->roboflow) (1.3.1)\n",
            "Requirement already satisfied: fonttools>=4.22.0 in /usr/local/lib/python3.10/dist-packages (from matplotlib->roboflow) (4.55.1)\n",
            "Requirement already satisfied: packaging>=20.0 in /usr/local/lib/python3.10/dist-packages (from matplotlib->roboflow) (24.2)\n",
            "Requirement already satisfied: pyparsing>=2.3.1 in /usr/local/lib/python3.10/dist-packages (from matplotlib->roboflow) (3.2.0)\n",
            "Requirement already satisfied: charset-normalizer<4,>=2 in /usr/local/lib/python3.10/dist-packages (from requests->roboflow) (3.4.0)\n",
            "Downloading roboflow-1.1.49-py3-none-any.whl (80 kB)\n",
            "\u001b[2K   \u001b[90m━━━━━━━━━━━━━━━━━━━━━━━━━━━━━━━━━━━━━━━━\u001b[0m \u001b[32m80.9/80.9 kB\u001b[0m \u001b[31m5.3 MB/s\u001b[0m eta \u001b[36m0:00:00\u001b[0m\n",
            "\u001b[?25hDownloading idna-3.7-py3-none-any.whl (66 kB)\n",
            "\u001b[2K   \u001b[90m━━━━━━━━━━━━━━━━━━━━━━━━━━━━━━━━━━━━━━━━\u001b[0m \u001b[32m66.8/66.8 kB\u001b[0m \u001b[31m6.2 MB/s\u001b[0m eta \u001b[36m0:00:00\u001b[0m\n",
            "\u001b[?25hDownloading filetype-1.2.0-py2.py3-none-any.whl (19 kB)\n",
            "Downloading python_dotenv-1.0.1-py3-none-any.whl (19 kB)\n",
            "Installing collected packages: filetype, python-dotenv, idna, roboflow\n",
            "  Attempting uninstall: idna\n",
            "    Found existing installation: idna 3.10\n",
            "    Uninstalling idna-3.10:\n",
            "      Successfully uninstalled idna-3.10\n",
            "Successfully installed filetype-1.2.0 idna-3.7 python-dotenv-1.0.1 roboflow-1.1.49\n"
          ]
        }
      ]
    },
    {
      "cell_type": "markdown",
      "source": [
        "## Import Libraries"
      ],
      "metadata": {
        "id": "LI4_yQIjqiFg"
      }
    },
    {
      "cell_type": "code",
      "source": [
        "from IPython.display import display, Image\n",
        "from roboflow import Roboflow"
      ],
      "metadata": {
        "id": "Zl-t0u1pqjub"
      },
      "execution_count": 17,
      "outputs": []
    },
    {
      "cell_type": "markdown",
      "source": [
        "## Load data"
      ],
      "metadata": {
        "id": "decDQ9fqqxJf"
      }
    },
    {
      "cell_type": "code",
      "source": [
        "API_KEY = input(\"Enter Roboflow API key: \")"
      ],
      "metadata": {
        "id": "HOM-36yVu-a4"
      },
      "execution_count": null,
      "outputs": []
    },
    {
      "cell_type": "code",
      "source": [
        "rf = Roboflow(api_key=API_KEY)\n",
        "project = rf.workspace(\"digimageproject\").project(\"chess-y67ho\")\n",
        "version = project.version(1)\n",
        "dataset = version.download(\"yolov8\")"
      ],
      "metadata": {
        "colab": {
          "base_uri": "https://localhost:8080/"
        },
        "id": "SFVEdwEJqmiB",
        "outputId": "000274bb-433b-4a7e-d0ee-9e08ecf90a14"
      },
      "execution_count": 19,
      "outputs": [
        {
          "output_type": "stream",
          "name": "stdout",
          "text": [
            "loading Roboflow workspace...\n",
            "loading Roboflow project...\n"
          ]
        },
        {
          "output_type": "stream",
          "name": "stderr",
          "text": [
            "Downloading Dataset Version Zip in Chess-1 to yolov8:: 100%|██████████| 22424/22424 [00:00<00:00, 22911.83it/s]"
          ]
        },
        {
          "output_type": "stream",
          "name": "stdout",
          "text": [
            "\n"
          ]
        },
        {
          "output_type": "stream",
          "name": "stderr",
          "text": [
            "\n",
            "Extracting Dataset Version Zip to Chess-1 in yolov8:: 100%|██████████| 990/990 [00:00<00:00, 2746.10it/s]\n"
          ]
        }
      ]
    },
    {
      "cell_type": "markdown",
      "source": [
        "## Train"
      ],
      "metadata": {
        "id": "1DR2-p7zrW_j"
      }
    },
    {
      "cell_type": "markdown",
      "source": [
        "Load pretrained YOLO"
      ],
      "metadata": {
        "id": "fI-0hf-YyDv6"
      }
    },
    {
      "cell_type": "code",
      "source": [
        "model = YOLO('yolo8n.pt')"
      ],
      "metadata": {
        "id": "NhRE0AXPyDYL"
      },
      "execution_count": 23,
      "outputs": []
    },
    {
      "cell_type": "code",
      "source": [
        "train_result = model.train(data='/content/Chess-1/data.yaml', epochs=60, batch=64)  # train the model"
      ],
      "metadata": {
        "colab": {
          "base_uri": "https://localhost:8080/"
        },
        "id": "63QuXNV7rWbW",
        "outputId": "4c56fea4-cb5e-4dbf-d998-b65e29f4a30d"
      },
      "execution_count": 25,
      "outputs": [
        {
          "output_type": "stream",
          "name": "stdout",
          "text": [
            "New https://pypi.org/project/ultralytics/8.3.48 available 😃 Update with 'pip install -U ultralytics'\n",
            "Ultralytics 8.3.40 🚀 Python-3.10.12 torch-2.5.1+cu121 CUDA:0 (Tesla T4, 15102MiB)\n",
            "\u001b[34m\u001b[1mengine/trainer: \u001b[0mtask=detect, mode=train, model=yolo8n.pt, data=/content/Chess-1/data.yaml, epochs=60, time=None, patience=100, batch=64, imgsz=640, save=True, save_period=-1, cache=False, device=None, workers=8, project=None, name=train32, exist_ok=False, pretrained=True, optimizer=auto, verbose=True, seed=0, deterministic=True, single_cls=False, rect=False, cos_lr=False, close_mosaic=10, resume=False, amp=True, fraction=1.0, profile=False, freeze=None, multi_scale=False, overlap_mask=True, mask_ratio=4, dropout=0.0, val=True, split=val, save_json=False, save_hybrid=False, conf=None, iou=0.7, max_det=300, half=False, dnn=False, plots=True, source=None, vid_stride=1, stream_buffer=False, visualize=False, augment=False, agnostic_nms=False, classes=None, retina_masks=False, embed=None, show=False, save_frames=False, save_txt=False, save_conf=False, save_crop=False, show_labels=True, show_conf=True, show_boxes=True, line_width=None, format=torchscript, keras=False, optimize=False, int8=False, dynamic=False, simplify=True, opset=None, workspace=None, nms=False, lr0=0.01, lrf=0.01, momentum=0.937, weight_decay=0.0005, warmup_epochs=3.0, warmup_momentum=0.8, warmup_bias_lr=0.0, box=7.5, cls=0.5, dfl=1.5, pose=12.0, kobj=1.0, nbs=64, hsv_h=0.015, hsv_s=0.7, hsv_v=0.4, degrees=0.0, translate=0.1, scale=0.5, shear=0.0, perspective=0.0, flipud=0.0, fliplr=0.5, bgr=0.0, mosaic=1.0, mixup=0.0, copy_paste=0.0, copy_paste_mode=flip, auto_augment=randaugment, erasing=0.4, crop_fraction=1.0, cfg=None, tracker=botsort.yaml, save_dir=runs/detect/train32\n",
            "\n",
            "                   from  n    params  module                                       arguments                     \n",
            "  0                  -1  1       464  ultralytics.nn.modules.conv.Conv             [3, 16, 3, 2]                 \n",
            "  1                  -1  1      4672  ultralytics.nn.modules.conv.Conv             [16, 32, 3, 2]                \n",
            "  2                  -1  1      7360  ultralytics.nn.modules.block.C2f             [32, 32, 1, True]             \n",
            "  3                  -1  1     18560  ultralytics.nn.modules.conv.Conv             [32, 64, 3, 2]                \n",
            "  4                  -1  2     49664  ultralytics.nn.modules.block.C2f             [64, 64, 2, True]             \n",
            "  5                  -1  1     73984  ultralytics.nn.modules.conv.Conv             [64, 128, 3, 2]               \n",
            "  6                  -1  2    197632  ultralytics.nn.modules.block.C2f             [128, 128, 2, True]           \n",
            "  7                  -1  1    295424  ultralytics.nn.modules.conv.Conv             [128, 256, 3, 2]              \n",
            "  8                  -1  1    460288  ultralytics.nn.modules.block.C2f             [256, 256, 1, True]           \n",
            "  9                  -1  1    164608  ultralytics.nn.modules.block.SPPF            [256, 256, 5]                 \n",
            " 10                  -1  1         0  torch.nn.modules.upsampling.Upsample         [None, 2, 'nearest']          \n",
            " 11             [-1, 6]  1         0  ultralytics.nn.modules.conv.Concat           [1]                           \n",
            " 12                  -1  1    148224  ultralytics.nn.modules.block.C2f             [384, 128, 1]                 \n",
            " 13                  -1  1         0  torch.nn.modules.upsampling.Upsample         [None, 2, 'nearest']          \n",
            " 14             [-1, 4]  1         0  ultralytics.nn.modules.conv.Concat           [1]                           \n",
            " 15                  -1  1     37248  ultralytics.nn.modules.block.C2f             [192, 64, 1]                  \n",
            " 16                  -1  1     36992  ultralytics.nn.modules.conv.Conv             [64, 64, 3, 2]                \n",
            " 17            [-1, 12]  1         0  ultralytics.nn.modules.conv.Concat           [1]                           \n",
            " 18                  -1  1    123648  ultralytics.nn.modules.block.C2f             [192, 128, 1]                 \n",
            " 19                  -1  1    147712  ultralytics.nn.modules.conv.Conv             [128, 128, 3, 2]              \n",
            " 20             [-1, 9]  1         0  ultralytics.nn.modules.conv.Concat           [1]                           \n",
            " 21                  -1  1    493056  ultralytics.nn.modules.block.C2f             [384, 256, 1]                 \n",
            " 22        [15, 18, 21]  1    753652  ultralytics.nn.modules.head.Detect           [12, [64, 128, 256]]          \n",
            "Model summary: 225 layers, 3,013,188 parameters, 3,013,172 gradients, 8.2 GFLOPs\n",
            "\n",
            "Transferred 355/355 items from pretrained weights\n",
            "\u001b[34m\u001b[1mTensorBoard: \u001b[0mStart with 'tensorboard --logdir runs/detect/train32', view at http://localhost:6006/\n",
            "Freezing layer 'model.22.dfl.conv.weight'\n",
            "\u001b[34m\u001b[1mAMP: \u001b[0mrunning Automatic Mixed Precision (AMP) checks...\n",
            "\u001b[34m\u001b[1mAMP: \u001b[0mchecks passed ✅\n"
          ]
        },
        {
          "output_type": "stream",
          "name": "stderr",
          "text": [
            "\u001b[34m\u001b[1mtrain: \u001b[0mScanning /content/Chess-1/train/labels.cache... 391 images, 0 backgrounds, 0 corrupt: 100%|██████████| 391/391 [00:00<?, ?it/s]"
          ]
        },
        {
          "output_type": "stream",
          "name": "stdout",
          "text": [
            "\u001b[34m\u001b[1malbumentations: \u001b[0mBlur(p=0.01, blur_limit=(3, 7)), MedianBlur(p=0.01, blur_limit=(3, 7)), ToGray(p=0.01, num_output_channels=3, method='weighted_average'), CLAHE(p=0.01, clip_limit=(1.0, 4.0), tile_grid_size=(8, 8))\n"
          ]
        },
        {
          "output_type": "stream",
          "name": "stderr",
          "text": [
            "\n",
            "\u001b[34m\u001b[1mval: \u001b[0mScanning /content/Chess-1/valid/labels.cache... 49 images, 0 backgrounds, 0 corrupt: 100%|██████████| 49/49 [00:00<?, ?it/s]\n"
          ]
        },
        {
          "output_type": "stream",
          "name": "stdout",
          "text": [
            "Plotting labels to runs/detect/train32/labels.jpg... \n",
            "\u001b[34m\u001b[1moptimizer:\u001b[0m 'optimizer=auto' found, ignoring 'lr0=0.01' and 'momentum=0.937' and determining best 'optimizer', 'lr0' and 'momentum' automatically... \n",
            "\u001b[34m\u001b[1moptimizer:\u001b[0m AdamW(lr=0.000625, momentum=0.9) with parameter groups 57 weight(decay=0.0), 64 weight(decay=0.0005), 63 bias(decay=0.0)\n",
            "\u001b[34m\u001b[1mTensorBoard: \u001b[0mmodel graph visualization added ✅\n",
            "Image sizes 640 train, 640 val\n",
            "Using 2 dataloader workers\n",
            "Logging results to \u001b[1mruns/detect/train32\u001b[0m\n",
            "Starting training for 60 epochs...\n",
            "\n",
            "      Epoch    GPU_mem   box_loss   cls_loss   dfl_loss  Instances       Size\n"
          ]
        },
        {
          "output_type": "stream",
          "name": "stderr",
          "text": [
            "       1/60      9.29G     0.6869      1.299     0.8742         19        640: 100%|██████████| 7/7 [00:07<00:00,  1.12s/it]\n",
            "                 Class     Images  Instances      Box(P          R      mAP50  mAP50-95): 100%|██████████| 1/1 [00:01<00:00,  1.42s/it]"
          ]
        },
        {
          "output_type": "stream",
          "name": "stdout",
          "text": [
            "                   all         49        216      0.895      0.891      0.951      0.821\n"
          ]
        },
        {
          "output_type": "stream",
          "name": "stderr",
          "text": [
            "\n"
          ]
        },
        {
          "output_type": "stream",
          "name": "stdout",
          "text": [
            "\n",
            "      Epoch    GPU_mem   box_loss   cls_loss   dfl_loss  Instances       Size\n"
          ]
        },
        {
          "output_type": "stream",
          "name": "stderr",
          "text": [
            "       2/60       9.4G     0.6824      1.187     0.8531         47        640: 100%|██████████| 7/7 [00:04<00:00,  1.48it/s]\n",
            "                 Class     Images  Instances      Box(P          R      mAP50  mAP50-95): 100%|██████████| 1/1 [00:00<00:00,  1.66it/s]"
          ]
        },
        {
          "output_type": "stream",
          "name": "stdout",
          "text": [
            "                   all         49        216      0.697        0.8      0.811      0.694\n"
          ]
        },
        {
          "output_type": "stream",
          "name": "stderr",
          "text": [
            "\n"
          ]
        },
        {
          "output_type": "stream",
          "name": "stdout",
          "text": [
            "\n",
            "      Epoch    GPU_mem   box_loss   cls_loss   dfl_loss  Instances       Size\n"
          ]
        },
        {
          "output_type": "stream",
          "name": "stderr",
          "text": [
            "       3/60       8.7G     0.6722      1.133     0.8629         55        640: 100%|██████████| 7/7 [00:04<00:00,  1.64it/s]\n",
            "                 Class     Images  Instances      Box(P          R      mAP50  mAP50-95): 100%|██████████| 1/1 [00:00<00:00,  1.14it/s]"
          ]
        },
        {
          "output_type": "stream",
          "name": "stdout",
          "text": [
            "                   all         49        216      0.762      0.878      0.911      0.784\n"
          ]
        },
        {
          "output_type": "stream",
          "name": "stderr",
          "text": [
            "\n"
          ]
        },
        {
          "output_type": "stream",
          "name": "stdout",
          "text": [
            "\n",
            "      Epoch    GPU_mem   box_loss   cls_loss   dfl_loss  Instances       Size\n"
          ]
        },
        {
          "output_type": "stream",
          "name": "stderr",
          "text": [
            "       4/60      8.43G     0.7118      1.154     0.8649         33        640: 100%|██████████| 7/7 [00:06<00:00,  1.04it/s]\n",
            "                 Class     Images  Instances      Box(P          R      mAP50  mAP50-95): 100%|██████████| 1/1 [00:00<00:00,  1.55it/s]"
          ]
        },
        {
          "output_type": "stream",
          "name": "stdout",
          "text": [
            "                   all         49        216      0.787      0.899      0.914      0.784\n"
          ]
        },
        {
          "output_type": "stream",
          "name": "stderr",
          "text": [
            "\n"
          ]
        },
        {
          "output_type": "stream",
          "name": "stdout",
          "text": [
            "\n",
            "      Epoch    GPU_mem   box_loss   cls_loss   dfl_loss  Instances       Size\n"
          ]
        },
        {
          "output_type": "stream",
          "name": "stderr",
          "text": [
            "       5/60      8.36G     0.6656      1.143     0.8639         36        640: 100%|██████████| 7/7 [00:04<00:00,  1.58it/s]\n",
            "                 Class     Images  Instances      Box(P          R      mAP50  mAP50-95): 100%|██████████| 1/1 [00:00<00:00,  1.32it/s]"
          ]
        },
        {
          "output_type": "stream",
          "name": "stdout",
          "text": [
            "                   all         49        216        0.8      0.883      0.923      0.798\n"
          ]
        },
        {
          "output_type": "stream",
          "name": "stderr",
          "text": [
            "\n"
          ]
        },
        {
          "output_type": "stream",
          "name": "stdout",
          "text": [
            "\n",
            "      Epoch    GPU_mem   box_loss   cls_loss   dfl_loss  Instances       Size\n"
          ]
        },
        {
          "output_type": "stream",
          "name": "stderr",
          "text": [
            "       6/60      8.97G     0.6734      1.107     0.8533         51        640: 100%|██████████| 7/7 [00:05<00:00,  1.34it/s]\n",
            "                 Class     Images  Instances      Box(P          R      mAP50  mAP50-95): 100%|██████████| 1/1 [00:00<00:00,  1.01it/s]"
          ]
        },
        {
          "output_type": "stream",
          "name": "stdout",
          "text": [
            "                   all         49        216      0.805      0.889      0.921      0.788\n"
          ]
        },
        {
          "output_type": "stream",
          "name": "stderr",
          "text": [
            "\n"
          ]
        },
        {
          "output_type": "stream",
          "name": "stdout",
          "text": [
            "\n",
            "      Epoch    GPU_mem   box_loss   cls_loss   dfl_loss  Instances       Size\n"
          ]
        },
        {
          "output_type": "stream",
          "name": "stderr",
          "text": [
            "       7/60      8.98G     0.7134      1.149     0.8707         46        640: 100%|██████████| 7/7 [00:05<00:00,  1.23it/s]\n",
            "                 Class     Images  Instances      Box(P          R      mAP50  mAP50-95): 100%|██████████| 1/1 [00:00<00:00,  1.71it/s]"
          ]
        },
        {
          "output_type": "stream",
          "name": "stdout",
          "text": [
            "                   all         49        216      0.598       0.82      0.801      0.687\n"
          ]
        },
        {
          "output_type": "stream",
          "name": "stderr",
          "text": [
            "\n"
          ]
        },
        {
          "output_type": "stream",
          "name": "stdout",
          "text": [
            "\n",
            "      Epoch    GPU_mem   box_loss   cls_loss   dfl_loss  Instances       Size\n"
          ]
        },
        {
          "output_type": "stream",
          "name": "stderr",
          "text": [
            "       8/60       9.5G     0.7315      1.207     0.8588         27        640: 100%|██████████| 7/7 [00:04<00:00,  1.68it/s]\n",
            "                 Class     Images  Instances      Box(P          R      mAP50  mAP50-95): 100%|██████████| 1/1 [00:00<00:00,  1.09it/s]"
          ]
        },
        {
          "output_type": "stream",
          "name": "stdout",
          "text": [
            "                   all         49        216      0.884      0.811      0.932      0.803\n"
          ]
        },
        {
          "output_type": "stream",
          "name": "stderr",
          "text": [
            "\n"
          ]
        },
        {
          "output_type": "stream",
          "name": "stdout",
          "text": [
            "\n",
            "      Epoch    GPU_mem   box_loss   cls_loss   dfl_loss  Instances       Size\n"
          ]
        },
        {
          "output_type": "stream",
          "name": "stderr",
          "text": [
            "       9/60      9.07G     0.6999       1.13     0.8692         13        640: 100%|██████████| 7/7 [00:05<00:00,  1.24it/s]\n",
            "                 Class     Images  Instances      Box(P          R      mAP50  mAP50-95): 100%|██████████| 1/1 [00:00<00:00,  1.08it/s]"
          ]
        },
        {
          "output_type": "stream",
          "name": "stdout",
          "text": [
            "                   all         49        216      0.864      0.874      0.951      0.813\n"
          ]
        },
        {
          "output_type": "stream",
          "name": "stderr",
          "text": [
            "\n"
          ]
        },
        {
          "output_type": "stream",
          "name": "stdout",
          "text": [
            "\n",
            "      Epoch    GPU_mem   box_loss   cls_loss   dfl_loss  Instances       Size\n"
          ]
        },
        {
          "output_type": "stream",
          "name": "stderr",
          "text": [
            "      10/60      8.94G     0.6861      1.056      0.858         37        640: 100%|██████████| 7/7 [00:04<00:00,  1.60it/s]\n",
            "                 Class     Images  Instances      Box(P          R      mAP50  mAP50-95): 100%|██████████| 1/1 [00:00<00:00,  1.56it/s]"
          ]
        },
        {
          "output_type": "stream",
          "name": "stdout",
          "text": [
            "                   all         49        216      0.766      0.927      0.945      0.798\n"
          ]
        },
        {
          "output_type": "stream",
          "name": "stderr",
          "text": [
            "\n"
          ]
        },
        {
          "output_type": "stream",
          "name": "stdout",
          "text": [
            "\n",
            "      Epoch    GPU_mem   box_loss   cls_loss   dfl_loss  Instances       Size\n"
          ]
        },
        {
          "output_type": "stream",
          "name": "stderr",
          "text": [
            "      11/60      9.41G     0.7029      1.049     0.8693         41        640: 100%|██████████| 7/7 [00:04<00:00,  1.56it/s]\n",
            "                 Class     Images  Instances      Box(P          R      mAP50  mAP50-95): 100%|██████████| 1/1 [00:00<00:00,  1.06it/s]"
          ]
        },
        {
          "output_type": "stream",
          "name": "stdout",
          "text": [
            "                   all         49        216      0.839      0.919      0.954       0.81\n"
          ]
        },
        {
          "output_type": "stream",
          "name": "stderr",
          "text": [
            "\n"
          ]
        },
        {
          "output_type": "stream",
          "name": "stdout",
          "text": [
            "\n",
            "      Epoch    GPU_mem   box_loss   cls_loss   dfl_loss  Instances       Size\n"
          ]
        },
        {
          "output_type": "stream",
          "name": "stderr",
          "text": [
            "      12/60      8.76G     0.7193       1.06     0.8798         55        640: 100%|██████████| 7/7 [00:06<00:00,  1.04it/s]\n",
            "                 Class     Images  Instances      Box(P          R      mAP50  mAP50-95): 100%|██████████| 1/1 [00:00<00:00,  1.85it/s]"
          ]
        },
        {
          "output_type": "stream",
          "name": "stdout",
          "text": [
            "                   all         49        216      0.836      0.847      0.926      0.789\n"
          ]
        },
        {
          "output_type": "stream",
          "name": "stderr",
          "text": [
            "\n"
          ]
        },
        {
          "output_type": "stream",
          "name": "stdout",
          "text": [
            "\n",
            "      Epoch    GPU_mem   box_loss   cls_loss   dfl_loss  Instances       Size\n"
          ]
        },
        {
          "output_type": "stream",
          "name": "stderr",
          "text": [
            "      13/60      9.23G     0.7166      1.027     0.8598         39        640: 100%|██████████| 7/7 [00:04<00:00,  1.62it/s]\n",
            "                 Class     Images  Instances      Box(P          R      mAP50  mAP50-95): 100%|██████████| 1/1 [00:00<00:00,  1.50it/s]"
          ]
        },
        {
          "output_type": "stream",
          "name": "stdout",
          "text": [
            "                   all         49        216      0.717      0.798      0.853      0.717\n"
          ]
        },
        {
          "output_type": "stream",
          "name": "stderr",
          "text": [
            "\n"
          ]
        },
        {
          "output_type": "stream",
          "name": "stdout",
          "text": [
            "\n",
            "      Epoch    GPU_mem   box_loss   cls_loss   dfl_loss  Instances       Size\n"
          ]
        },
        {
          "output_type": "stream",
          "name": "stderr",
          "text": [
            "      14/60      8.52G     0.7341      1.015     0.8785         51        640: 100%|██████████| 7/7 [00:05<00:00,  1.28it/s]\n",
            "                 Class     Images  Instances      Box(P          R      mAP50  mAP50-95): 100%|██████████| 1/1 [00:00<00:00,  1.02it/s]"
          ]
        },
        {
          "output_type": "stream",
          "name": "stdout",
          "text": [
            "                   all         49        216      0.846      0.952      0.976      0.816\n"
          ]
        },
        {
          "output_type": "stream",
          "name": "stderr",
          "text": [
            "\n"
          ]
        },
        {
          "output_type": "stream",
          "name": "stdout",
          "text": [
            "\n",
            "      Epoch    GPU_mem   box_loss   cls_loss   dfl_loss  Instances       Size\n"
          ]
        },
        {
          "output_type": "stream",
          "name": "stderr",
          "text": [
            "      15/60      8.55G     0.6901      1.062      0.877         18        640: 100%|██████████| 7/7 [00:05<00:00,  1.27it/s]\n",
            "                 Class     Images  Instances      Box(P          R      mAP50  mAP50-95): 100%|██████████| 1/1 [00:00<00:00,  1.47it/s]"
          ]
        },
        {
          "output_type": "stream",
          "name": "stdout",
          "text": [
            "                   all         49        216       0.83      0.796       0.88       0.75\n"
          ]
        },
        {
          "output_type": "stream",
          "name": "stderr",
          "text": [
            "\n"
          ]
        },
        {
          "output_type": "stream",
          "name": "stdout",
          "text": [
            "\n",
            "      Epoch    GPU_mem   box_loss   cls_loss   dfl_loss  Instances       Size\n"
          ]
        },
        {
          "output_type": "stream",
          "name": "stderr",
          "text": [
            "      16/60      8.91G     0.6945      1.121     0.8713         13        640: 100%|██████████| 7/7 [00:04<00:00,  1.65it/s]\n",
            "                 Class     Images  Instances      Box(P          R      mAP50  mAP50-95): 100%|██████████| 1/1 [00:01<00:00,  1.04s/it]"
          ]
        },
        {
          "output_type": "stream",
          "name": "stdout",
          "text": [
            "                   all         49        216      0.849      0.914      0.949      0.808\n"
          ]
        },
        {
          "output_type": "stream",
          "name": "stderr",
          "text": [
            "\n"
          ]
        },
        {
          "output_type": "stream",
          "name": "stdout",
          "text": [
            "\n",
            "      Epoch    GPU_mem   box_loss   cls_loss   dfl_loss  Instances       Size\n"
          ]
        },
        {
          "output_type": "stream",
          "name": "stderr",
          "text": [
            "      17/60      8.28G     0.7393       1.04     0.8791         41        640: 100%|██████████| 7/7 [00:05<00:00,  1.24it/s]\n",
            "                 Class     Images  Instances      Box(P          R      mAP50  mAP50-95): 100%|██████████| 1/1 [00:01<00:00,  1.01s/it]"
          ]
        },
        {
          "output_type": "stream",
          "name": "stdout",
          "text": [
            "                   all         49        216      0.903      0.843      0.941      0.798\n"
          ]
        },
        {
          "output_type": "stream",
          "name": "stderr",
          "text": [
            "\n"
          ]
        },
        {
          "output_type": "stream",
          "name": "stdout",
          "text": [
            "\n",
            "      Epoch    GPU_mem   box_loss   cls_loss   dfl_loss  Instances       Size\n"
          ]
        },
        {
          "output_type": "stream",
          "name": "stderr",
          "text": [
            "      18/60      8.91G     0.7141      1.029     0.8925         49        640: 100%|██████████| 7/7 [00:04<00:00,  1.60it/s]\n",
            "                 Class     Images  Instances      Box(P          R      mAP50  mAP50-95): 100%|██████████| 1/1 [00:00<00:00,  1.59it/s]"
          ]
        },
        {
          "output_type": "stream",
          "name": "stdout",
          "text": [
            "                   all         49        216      0.887      0.835      0.945      0.805\n"
          ]
        },
        {
          "output_type": "stream",
          "name": "stderr",
          "text": [
            "\n"
          ]
        },
        {
          "output_type": "stream",
          "name": "stdout",
          "text": [
            "\n",
            "      Epoch    GPU_mem   box_loss   cls_loss   dfl_loss  Instances       Size\n"
          ]
        },
        {
          "output_type": "stream",
          "name": "stderr",
          "text": [
            "      19/60      8.93G     0.7147     0.9863     0.8722         39        640: 100%|██████████| 7/7 [00:04<00:00,  1.57it/s]\n",
            "                 Class     Images  Instances      Box(P          R      mAP50  mAP50-95): 100%|██████████| 1/1 [00:00<00:00,  1.12it/s]"
          ]
        },
        {
          "output_type": "stream",
          "name": "stdout",
          "text": [
            "                   all         49        216      0.836      0.888      0.934      0.795\n"
          ]
        },
        {
          "output_type": "stream",
          "name": "stderr",
          "text": [
            "\n"
          ]
        },
        {
          "output_type": "stream",
          "name": "stdout",
          "text": [
            "\n",
            "      Epoch    GPU_mem   box_loss   cls_loss   dfl_loss  Instances       Size\n"
          ]
        },
        {
          "output_type": "stream",
          "name": "stderr",
          "text": [
            "      20/60      8.88G     0.7055     0.9506     0.8634         67        640: 100%|██████████| 7/7 [00:06<00:00,  1.05it/s]\n",
            "                 Class     Images  Instances      Box(P          R      mAP50  mAP50-95): 100%|██████████| 1/1 [00:00<00:00,  1.60it/s]"
          ]
        },
        {
          "output_type": "stream",
          "name": "stdout",
          "text": [
            "                   all         49        216      0.862      0.911      0.943      0.792\n"
          ]
        },
        {
          "output_type": "stream",
          "name": "stderr",
          "text": [
            "\n"
          ]
        },
        {
          "output_type": "stream",
          "name": "stdout",
          "text": [
            "\n",
            "      Epoch    GPU_mem   box_loss   cls_loss   dfl_loss  Instances       Size\n"
          ]
        },
        {
          "output_type": "stream",
          "name": "stderr",
          "text": [
            "      21/60      9.39G      0.753      0.964     0.8761         31        640: 100%|██████████| 7/7 [00:04<00:00,  1.68it/s]\n",
            "                 Class     Images  Instances      Box(P          R      mAP50  mAP50-95): 100%|██████████| 1/1 [00:00<00:00,  1.68it/s]"
          ]
        },
        {
          "output_type": "stream",
          "name": "stdout",
          "text": [
            "                   all         49        216      0.825      0.865      0.921      0.789\n"
          ]
        },
        {
          "output_type": "stream",
          "name": "stderr",
          "text": [
            "\n"
          ]
        },
        {
          "output_type": "stream",
          "name": "stdout",
          "text": [
            "\n",
            "      Epoch    GPU_mem   box_loss   cls_loss   dfl_loss  Instances       Size\n"
          ]
        },
        {
          "output_type": "stream",
          "name": "stderr",
          "text": [
            "      22/60      9.11G     0.6862      1.027     0.8607         14        640: 100%|██████████| 7/7 [00:05<00:00,  1.35it/s]\n",
            "                 Class     Images  Instances      Box(P          R      mAP50  mAP50-95): 100%|██████████| 1/1 [00:01<00:00,  1.01s/it]"
          ]
        },
        {
          "output_type": "stream",
          "name": "stdout",
          "text": [
            "                   all         49        216      0.854      0.921      0.925      0.775\n"
          ]
        },
        {
          "output_type": "stream",
          "name": "stderr",
          "text": [
            "\n"
          ]
        },
        {
          "output_type": "stream",
          "name": "stdout",
          "text": [
            "\n",
            "      Epoch    GPU_mem   box_loss   cls_loss   dfl_loss  Instances       Size\n"
          ]
        },
        {
          "output_type": "stream",
          "name": "stderr",
          "text": [
            "      23/60      8.92G     0.6999     0.8782     0.8813         49        640: 100%|██████████| 7/7 [00:05<00:00,  1.30it/s]\n",
            "                 Class     Images  Instances      Box(P          R      mAP50  mAP50-95): 100%|██████████| 1/1 [00:00<00:00,  1.50it/s]"
          ]
        },
        {
          "output_type": "stream",
          "name": "stdout",
          "text": [
            "                   all         49        216       0.95      0.893      0.958      0.823\n"
          ]
        },
        {
          "output_type": "stream",
          "name": "stderr",
          "text": [
            "\n"
          ]
        },
        {
          "output_type": "stream",
          "name": "stdout",
          "text": [
            "\n",
            "      Epoch    GPU_mem   box_loss   cls_loss   dfl_loss  Instances       Size\n"
          ]
        },
        {
          "output_type": "stream",
          "name": "stderr",
          "text": [
            "      24/60      9.16G      0.673     0.8257     0.8655         62        640: 100%|██████████| 7/7 [00:04<00:00,  1.63it/s]\n",
            "                 Class     Images  Instances      Box(P          R      mAP50  mAP50-95): 100%|██████████| 1/1 [00:00<00:00,  1.09it/s]"
          ]
        },
        {
          "output_type": "stream",
          "name": "stdout",
          "text": [
            "                   all         49        216      0.942      0.949      0.981      0.849\n"
          ]
        },
        {
          "output_type": "stream",
          "name": "stderr",
          "text": [
            "\n"
          ]
        },
        {
          "output_type": "stream",
          "name": "stdout",
          "text": [
            "\n",
            "      Epoch    GPU_mem   box_loss   cls_loss   dfl_loss  Instances       Size\n"
          ]
        },
        {
          "output_type": "stream",
          "name": "stderr",
          "text": [
            "      25/60      9.29G     0.6638     0.7779     0.8649         43        640: 100%|██████████| 7/7 [00:06<00:00,  1.15it/s]\n",
            "                 Class     Images  Instances      Box(P          R      mAP50  mAP50-95): 100%|██████████| 1/1 [00:00<00:00,  1.00it/s]"
          ]
        },
        {
          "output_type": "stream",
          "name": "stdout",
          "text": [
            "                   all         49        216      0.944      0.935      0.991      0.847\n"
          ]
        },
        {
          "output_type": "stream",
          "name": "stderr",
          "text": [
            "\n"
          ]
        },
        {
          "output_type": "stream",
          "name": "stdout",
          "text": [
            "\n",
            "      Epoch    GPU_mem   box_loss   cls_loss   dfl_loss  Instances       Size\n"
          ]
        },
        {
          "output_type": "stream",
          "name": "stderr",
          "text": [
            "      26/60       8.3G     0.6869     0.7996     0.8643         31        640: 100%|██████████| 7/7 [00:04<00:00,  1.57it/s]\n",
            "                 Class     Images  Instances      Box(P          R      mAP50  mAP50-95): 100%|██████████| 1/1 [00:00<00:00,  1.66it/s]"
          ]
        },
        {
          "output_type": "stream",
          "name": "stdout",
          "text": [
            "                   all         49        216      0.951      0.929      0.986      0.845\n"
          ]
        },
        {
          "output_type": "stream",
          "name": "stderr",
          "text": [
            "\n"
          ]
        },
        {
          "output_type": "stream",
          "name": "stdout",
          "text": [
            "\n",
            "      Epoch    GPU_mem   box_loss   cls_loss   dfl_loss  Instances       Size\n"
          ]
        },
        {
          "output_type": "stream",
          "name": "stderr",
          "text": [
            "      27/60       8.6G      0.692     0.7999     0.8736         31        640: 100%|██████████| 7/7 [00:04<00:00,  1.54it/s]\n",
            "                 Class     Images  Instances      Box(P          R      mAP50  mAP50-95): 100%|██████████| 1/1 [00:00<00:00,  1.06it/s]"
          ]
        },
        {
          "output_type": "stream",
          "name": "stdout",
          "text": [
            "                   all         49        216      0.938      0.975      0.992      0.844\n"
          ]
        },
        {
          "output_type": "stream",
          "name": "stderr",
          "text": [
            "\n"
          ]
        },
        {
          "output_type": "stream",
          "name": "stdout",
          "text": [
            "\n",
            "      Epoch    GPU_mem   box_loss   cls_loss   dfl_loss  Instances       Size\n"
          ]
        },
        {
          "output_type": "stream",
          "name": "stderr",
          "text": [
            "      28/60       8.5G     0.6652     0.7925     0.8804         29        640: 100%|██████████| 7/7 [00:06<00:00,  1.12it/s]\n",
            "                 Class     Images  Instances      Box(P          R      mAP50  mAP50-95): 100%|██████████| 1/1 [00:00<00:00,  1.65it/s]"
          ]
        },
        {
          "output_type": "stream",
          "name": "stdout",
          "text": [
            "                   all         49        216      0.906      0.894      0.966      0.835\n"
          ]
        },
        {
          "output_type": "stream",
          "name": "stderr",
          "text": [
            "\n"
          ]
        },
        {
          "output_type": "stream",
          "name": "stdout",
          "text": [
            "\n",
            "      Epoch    GPU_mem   box_loss   cls_loss   dfl_loss  Instances       Size\n"
          ]
        },
        {
          "output_type": "stream",
          "name": "stderr",
          "text": [
            "      29/60      9.32G     0.6488     0.7464     0.8676         24        640: 100%|██████████| 7/7 [00:04<00:00,  1.63it/s]\n",
            "                 Class     Images  Instances      Box(P          R      mAP50  mAP50-95): 100%|██████████| 1/1 [00:00<00:00,  1.49it/s]"
          ]
        },
        {
          "output_type": "stream",
          "name": "stdout",
          "text": [
            "                   all         49        216      0.928       0.99      0.989       0.86\n"
          ]
        },
        {
          "output_type": "stream",
          "name": "stderr",
          "text": [
            "\n"
          ]
        },
        {
          "output_type": "stream",
          "name": "stdout",
          "text": [
            "\n",
            "      Epoch    GPU_mem   box_loss   cls_loss   dfl_loss  Instances       Size\n"
          ]
        },
        {
          "output_type": "stream",
          "name": "stderr",
          "text": [
            "      30/60      9.04G      0.661     0.7441     0.8663         64        640: 100%|██████████| 7/7 [00:05<00:00,  1.25it/s]\n",
            "                 Class     Images  Instances      Box(P          R      mAP50  mAP50-95): 100%|██████████| 1/1 [00:00<00:00,  1.04it/s]"
          ]
        },
        {
          "output_type": "stream",
          "name": "stdout",
          "text": [
            "                   all         49        216      0.949      0.976      0.986      0.848\n"
          ]
        },
        {
          "output_type": "stream",
          "name": "stderr",
          "text": [
            "\n"
          ]
        },
        {
          "output_type": "stream",
          "name": "stdout",
          "text": [
            "\n",
            "      Epoch    GPU_mem   box_loss   cls_loss   dfl_loss  Instances       Size\n"
          ]
        },
        {
          "output_type": "stream",
          "name": "stderr",
          "text": [
            "      31/60      9.07G     0.6809     0.7506     0.8833         44        640: 100%|██████████| 7/7 [00:04<00:00,  1.61it/s]\n",
            "                 Class     Images  Instances      Box(P          R      mAP50  mAP50-95): 100%|██████████| 1/1 [00:00<00:00,  1.19it/s]"
          ]
        },
        {
          "output_type": "stream",
          "name": "stdout",
          "text": [
            "                   all         49        216      0.905      0.956      0.983      0.854\n"
          ]
        },
        {
          "output_type": "stream",
          "name": "stderr",
          "text": [
            "\n"
          ]
        },
        {
          "output_type": "stream",
          "name": "stdout",
          "text": [
            "\n",
            "      Epoch    GPU_mem   box_loss   cls_loss   dfl_loss  Instances       Size\n"
          ]
        },
        {
          "output_type": "stream",
          "name": "stderr",
          "text": [
            "      32/60       9.1G     0.6517     0.7134      0.864         33        640: 100%|██████████| 7/7 [00:04<00:00,  1.58it/s]\n",
            "                 Class     Images  Instances      Box(P          R      mAP50  mAP50-95): 100%|██████████| 1/1 [00:00<00:00,  1.10it/s]"
          ]
        },
        {
          "output_type": "stream",
          "name": "stdout",
          "text": [
            "                   all         49        216      0.926      0.961      0.986      0.849\n"
          ]
        },
        {
          "output_type": "stream",
          "name": "stderr",
          "text": [
            "\n"
          ]
        },
        {
          "output_type": "stream",
          "name": "stdout",
          "text": [
            "\n",
            "      Epoch    GPU_mem   box_loss   cls_loss   dfl_loss  Instances       Size\n"
          ]
        },
        {
          "output_type": "stream",
          "name": "stderr",
          "text": [
            "      33/60      8.63G      0.661     0.7726     0.8761         11        640: 100%|██████████| 7/7 [00:06<00:00,  1.01it/s]\n",
            "                 Class     Images  Instances      Box(P          R      mAP50  mAP50-95): 100%|██████████| 1/1 [00:00<00:00,  1.51it/s]"
          ]
        },
        {
          "output_type": "stream",
          "name": "stdout",
          "text": [
            "                   all         49        216      0.969      0.991      0.991       0.85\n"
          ]
        },
        {
          "output_type": "stream",
          "name": "stderr",
          "text": [
            "\n"
          ]
        },
        {
          "output_type": "stream",
          "name": "stdout",
          "text": [
            "\n",
            "      Epoch    GPU_mem   box_loss   cls_loss   dfl_loss  Instances       Size\n"
          ]
        },
        {
          "output_type": "stream",
          "name": "stderr",
          "text": [
            "      34/60      9.31G     0.6131     0.7202     0.8537         79        640: 100%|██████████| 7/7 [00:04<00:00,  1.63it/s]\n",
            "                 Class     Images  Instances      Box(P          R      mAP50  mAP50-95): 100%|██████████| 1/1 [00:00<00:00,  1.28it/s]"
          ]
        },
        {
          "output_type": "stream",
          "name": "stdout",
          "text": [
            "                   all         49        216      0.971      0.968      0.992      0.855\n"
          ]
        },
        {
          "output_type": "stream",
          "name": "stderr",
          "text": [
            "\n"
          ]
        },
        {
          "output_type": "stream",
          "name": "stdout",
          "text": [
            "\n",
            "      Epoch    GPU_mem   box_loss   cls_loss   dfl_loss  Instances       Size\n"
          ]
        },
        {
          "output_type": "stream",
          "name": "stderr",
          "text": [
            "      35/60      8.62G     0.6565     0.6994     0.8714         20        640: 100%|██████████| 7/7 [00:05<00:00,  1.25it/s]\n",
            "                 Class     Images  Instances      Box(P          R      mAP50  mAP50-95): 100%|██████████| 1/1 [00:00<00:00,  1.03it/s]"
          ]
        },
        {
          "output_type": "stream",
          "name": "stdout",
          "text": [
            "                   all         49        216      0.956      0.985       0.99      0.855\n"
          ]
        },
        {
          "output_type": "stream",
          "name": "stderr",
          "text": [
            "\n"
          ]
        },
        {
          "output_type": "stream",
          "name": "stdout",
          "text": [
            "\n",
            "      Epoch    GPU_mem   box_loss   cls_loss   dfl_loss  Instances       Size\n"
          ]
        },
        {
          "output_type": "stream",
          "name": "stderr",
          "text": [
            "      36/60      8.93G     0.6434     0.6837     0.8603         44        640: 100%|██████████| 7/7 [00:05<00:00,  1.31it/s]\n",
            "                 Class     Images  Instances      Box(P          R      mAP50  mAP50-95): 100%|██████████| 1/1 [00:00<00:00,  1.48it/s]"
          ]
        },
        {
          "output_type": "stream",
          "name": "stdout",
          "text": [
            "                   all         49        216      0.974       0.98      0.995      0.857\n"
          ]
        },
        {
          "output_type": "stream",
          "name": "stderr",
          "text": [
            "\n"
          ]
        },
        {
          "output_type": "stream",
          "name": "stdout",
          "text": [
            "\n",
            "      Epoch    GPU_mem   box_loss   cls_loss   dfl_loss  Instances       Size\n"
          ]
        },
        {
          "output_type": "stream",
          "name": "stderr",
          "text": [
            "      37/60       9.6G     0.6567     0.7419     0.8517         44        640: 100%|██████████| 7/7 [00:04<00:00,  1.68it/s]\n",
            "                 Class     Images  Instances      Box(P          R      mAP50  mAP50-95): 100%|██████████| 1/1 [00:01<00:00,  1.06s/it]"
          ]
        },
        {
          "output_type": "stream",
          "name": "stdout",
          "text": [
            "                   all         49        216      0.976       0.98      0.995      0.858\n"
          ]
        },
        {
          "output_type": "stream",
          "name": "stderr",
          "text": [
            "\n"
          ]
        },
        {
          "output_type": "stream",
          "name": "stdout",
          "text": [
            "\n",
            "      Epoch    GPU_mem   box_loss   cls_loss   dfl_loss  Instances       Size\n"
          ]
        },
        {
          "output_type": "stream",
          "name": "stderr",
          "text": [
            "      38/60      8.62G     0.6258     0.6531     0.8599         51        640: 100%|██████████| 7/7 [00:06<00:00,  1.13it/s]\n",
            "                 Class     Images  Instances      Box(P          R      mAP50  mAP50-95): 100%|██████████| 1/1 [00:00<00:00,  1.43it/s]"
          ]
        },
        {
          "output_type": "stream",
          "name": "stdout",
          "text": [
            "                   all         49        216      0.965      0.981      0.995      0.869\n"
          ]
        },
        {
          "output_type": "stream",
          "name": "stderr",
          "text": [
            "\n"
          ]
        },
        {
          "output_type": "stream",
          "name": "stdout",
          "text": [
            "\n",
            "      Epoch    GPU_mem   box_loss   cls_loss   dfl_loss  Instances       Size\n"
          ]
        },
        {
          "output_type": "stream",
          "name": "stderr",
          "text": [
            "      39/60      8.92G     0.6326     0.6479     0.8652         38        640: 100%|██████████| 7/7 [00:04<00:00,  1.56it/s]\n",
            "                 Class     Images  Instances      Box(P          R      mAP50  mAP50-95): 100%|██████████| 1/1 [00:00<00:00,  1.49it/s]"
          ]
        },
        {
          "output_type": "stream",
          "name": "stdout",
          "text": [
            "                   all         49        216      0.988      0.979      0.995       0.87\n"
          ]
        },
        {
          "output_type": "stream",
          "name": "stderr",
          "text": [
            "\n"
          ]
        },
        {
          "output_type": "stream",
          "name": "stdout",
          "text": [
            "\n",
            "      Epoch    GPU_mem   box_loss   cls_loss   dfl_loss  Instances       Size\n"
          ]
        },
        {
          "output_type": "stream",
          "name": "stderr",
          "text": [
            "      40/60      9.23G       0.61     0.6207     0.8498         47        640: 100%|██████████| 7/7 [00:05<00:00,  1.28it/s]\n",
            "                 Class     Images  Instances      Box(P          R      mAP50  mAP50-95): 100%|██████████| 1/1 [00:00<00:00,  1.07it/s]"
          ]
        },
        {
          "output_type": "stream",
          "name": "stdout",
          "text": [
            "                   all         49        216      0.974      0.987      0.994      0.867\n"
          ]
        },
        {
          "output_type": "stream",
          "name": "stderr",
          "text": [
            "\n"
          ]
        },
        {
          "output_type": "stream",
          "name": "stdout",
          "text": [
            "\n",
            "      Epoch    GPU_mem   box_loss   cls_loss   dfl_loss  Instances       Size\n"
          ]
        },
        {
          "output_type": "stream",
          "name": "stderr",
          "text": [
            "      41/60      8.93G     0.6385     0.6648     0.8592         48        640: 100%|██████████| 7/7 [00:05<00:00,  1.22it/s]\n",
            "                 Class     Images  Instances      Box(P          R      mAP50  mAP50-95): 100%|██████████| 1/1 [00:00<00:00,  1.72it/s]"
          ]
        },
        {
          "output_type": "stream",
          "name": "stdout",
          "text": [
            "                   all         49        216      0.981      0.992      0.994      0.874\n"
          ]
        },
        {
          "output_type": "stream",
          "name": "stderr",
          "text": [
            "\n"
          ]
        },
        {
          "output_type": "stream",
          "name": "stdout",
          "text": [
            "\n",
            "      Epoch    GPU_mem   box_loss   cls_loss   dfl_loss  Instances       Size\n"
          ]
        },
        {
          "output_type": "stream",
          "name": "stderr",
          "text": [
            "      42/60      8.64G     0.6149     0.6605     0.8497        101        640: 100%|██████████| 7/7 [00:04<00:00,  1.64it/s]\n",
            "                 Class     Images  Instances      Box(P          R      mAP50  mAP50-95): 100%|██████████| 1/1 [00:00<00:00,  1.05it/s]"
          ]
        },
        {
          "output_type": "stream",
          "name": "stdout",
          "text": [
            "                   all         49        216       0.97      0.981      0.995      0.868\n"
          ]
        },
        {
          "output_type": "stream",
          "name": "stderr",
          "text": [
            "\n"
          ]
        },
        {
          "output_type": "stream",
          "name": "stdout",
          "text": [
            "\n",
            "      Epoch    GPU_mem   box_loss   cls_loss   dfl_loss  Instances       Size\n"
          ]
        },
        {
          "output_type": "stream",
          "name": "stderr",
          "text": [
            "      43/60      9.13G     0.6014     0.6597     0.8523          8        640: 100%|██████████| 7/7 [00:06<00:00,  1.15it/s]\n",
            "                 Class     Images  Instances      Box(P          R      mAP50  mAP50-95): 100%|██████████| 1/1 [00:00<00:00,  1.03it/s]"
          ]
        },
        {
          "output_type": "stream",
          "name": "stdout",
          "text": [
            "                   all         49        216      0.977      0.989      0.994      0.871\n"
          ]
        },
        {
          "output_type": "stream",
          "name": "stderr",
          "text": [
            "\n"
          ]
        },
        {
          "output_type": "stream",
          "name": "stdout",
          "text": [
            "\n",
            "      Epoch    GPU_mem   box_loss   cls_loss   dfl_loss  Instances       Size\n"
          ]
        },
        {
          "output_type": "stream",
          "name": "stderr",
          "text": [
            "      44/60      8.59G     0.6142     0.6411     0.8591          7        640: 100%|██████████| 7/7 [00:04<00:00,  1.44it/s]\n",
            "                 Class     Images  Instances      Box(P          R      mAP50  mAP50-95): 100%|██████████| 1/1 [00:01<00:00,  1.02s/it]"
          ]
        },
        {
          "output_type": "stream",
          "name": "stdout",
          "text": [
            "                   all         49        216      0.975      0.995      0.995      0.872\n"
          ]
        },
        {
          "output_type": "stream",
          "name": "stderr",
          "text": [
            "\n"
          ]
        },
        {
          "output_type": "stream",
          "name": "stdout",
          "text": [
            "\n",
            "      Epoch    GPU_mem   box_loss   cls_loss   dfl_loss  Instances       Size\n"
          ]
        },
        {
          "output_type": "stream",
          "name": "stderr",
          "text": [
            "      45/60      9.01G     0.6241     0.6272     0.8588         40        640: 100%|██████████| 7/7 [00:09<00:00,  1.36s/it]\n",
            "                 Class     Images  Instances      Box(P          R      mAP50  mAP50-95): 100%|██████████| 1/1 [00:01<00:00,  1.14s/it]"
          ]
        },
        {
          "output_type": "stream",
          "name": "stdout",
          "text": [
            "                   all         49        216       0.98       0.99      0.995      0.873\n"
          ]
        },
        {
          "output_type": "stream",
          "name": "stderr",
          "text": [
            "\n"
          ]
        },
        {
          "output_type": "stream",
          "name": "stdout",
          "text": [
            "\n",
            "      Epoch    GPU_mem   box_loss   cls_loss   dfl_loss  Instances       Size\n"
          ]
        },
        {
          "output_type": "stream",
          "name": "stderr",
          "text": [
            "      46/60       9.1G     0.6238     0.6379     0.8604         80        640: 100%|██████████| 7/7 [00:06<00:00,  1.16it/s]\n",
            "                 Class     Images  Instances      Box(P          R      mAP50  mAP50-95): 100%|██████████| 1/1 [00:00<00:00,  1.66it/s]"
          ]
        },
        {
          "output_type": "stream",
          "name": "stdout",
          "text": [
            "                   all         49        216      0.979      0.987      0.995       0.87\n"
          ]
        },
        {
          "output_type": "stream",
          "name": "stderr",
          "text": [
            "\n"
          ]
        },
        {
          "output_type": "stream",
          "name": "stdout",
          "text": [
            "\n",
            "      Epoch    GPU_mem   box_loss   cls_loss   dfl_loss  Instances       Size\n"
          ]
        },
        {
          "output_type": "stream",
          "name": "stderr",
          "text": [
            "      47/60      8.52G     0.6317     0.6277     0.8597         33        640: 100%|██████████| 7/7 [00:05<00:00,  1.26it/s]\n",
            "                 Class     Images  Instances      Box(P          R      mAP50  mAP50-95): 100%|██████████| 1/1 [00:00<00:00,  1.03it/s]"
          ]
        },
        {
          "output_type": "stream",
          "name": "stdout",
          "text": [
            "                   all         49        216      0.963      0.958      0.993      0.862\n"
          ]
        },
        {
          "output_type": "stream",
          "name": "stderr",
          "text": [
            "\n"
          ]
        },
        {
          "output_type": "stream",
          "name": "stdout",
          "text": [
            "\n",
            "      Epoch    GPU_mem   box_loss   cls_loss   dfl_loss  Instances       Size\n"
          ]
        },
        {
          "output_type": "stream",
          "name": "stderr",
          "text": [
            "      48/60      8.55G     0.6381     0.6069      0.857         40        640: 100%|██████████| 7/7 [00:06<00:00,  1.13it/s]\n",
            "                 Class     Images  Instances      Box(P          R      mAP50  mAP50-95): 100%|██████████| 1/1 [00:00<00:00,  1.21it/s]"
          ]
        },
        {
          "output_type": "stream",
          "name": "stdout",
          "text": [
            "                   all         49        216      0.981      0.993      0.995      0.871\n"
          ]
        },
        {
          "output_type": "stream",
          "name": "stderr",
          "text": [
            "\n"
          ]
        },
        {
          "output_type": "stream",
          "name": "stdout",
          "text": [
            "\n",
            "      Epoch    GPU_mem   box_loss   cls_loss   dfl_loss  Instances       Size\n"
          ]
        },
        {
          "output_type": "stream",
          "name": "stderr",
          "text": [
            "      49/60      8.91G     0.6201     0.5928     0.8585         22        640: 100%|██████████| 7/7 [00:07<00:00,  1.08s/it]\n",
            "                 Class     Images  Instances      Box(P          R      mAP50  mAP50-95): 100%|██████████| 1/1 [00:01<00:00,  1.28s/it]"
          ]
        },
        {
          "output_type": "stream",
          "name": "stdout",
          "text": [
            "                   all         49        216      0.983      0.997      0.995      0.871\n"
          ]
        },
        {
          "output_type": "stream",
          "name": "stderr",
          "text": [
            "\n"
          ]
        },
        {
          "output_type": "stream",
          "name": "stdout",
          "text": [
            "\n",
            "      Epoch    GPU_mem   box_loss   cls_loss   dfl_loss  Instances       Size\n"
          ]
        },
        {
          "output_type": "stream",
          "name": "stderr",
          "text": [
            "      50/60      8.89G      0.616     0.5857     0.8507         73        640: 100%|██████████| 7/7 [00:05<00:00,  1.33it/s]\n",
            "                 Class     Images  Instances      Box(P          R      mAP50  mAP50-95): 100%|██████████| 1/1 [00:00<00:00,  1.33it/s]"
          ]
        },
        {
          "output_type": "stream",
          "name": "stdout",
          "text": [
            "                   all         49        216      0.986      0.991      0.995      0.872\n"
          ]
        },
        {
          "output_type": "stream",
          "name": "stderr",
          "text": [
            "\n"
          ]
        },
        {
          "output_type": "stream",
          "name": "stdout",
          "text": [
            "Closing dataloader mosaic\n",
            "\u001b[34m\u001b[1malbumentations: \u001b[0mBlur(p=0.01, blur_limit=(3, 7)), MedianBlur(p=0.01, blur_limit=(3, 7)), ToGray(p=0.01, num_output_channels=3, method='weighted_average'), CLAHE(p=0.01, clip_limit=(1.0, 4.0), tile_grid_size=(8, 8))\n",
            "\n",
            "      Epoch    GPU_mem   box_loss   cls_loss   dfl_loss  Instances       Size\n"
          ]
        },
        {
          "output_type": "stream",
          "name": "stderr",
          "text": [
            "      51/60      8.52G     0.5782     0.5536     0.8507         53        640: 100%|██████████| 7/7 [00:13<00:00,  1.92s/it]\n",
            "                 Class     Images  Instances      Box(P          R      mAP50  mAP50-95): 100%|██████████| 1/1 [00:00<00:00,  1.63it/s]"
          ]
        },
        {
          "output_type": "stream",
          "name": "stdout",
          "text": [
            "                   all         49        216      0.979      0.987      0.995      0.869\n"
          ]
        },
        {
          "output_type": "stream",
          "name": "stderr",
          "text": [
            "\n"
          ]
        },
        {
          "output_type": "stream",
          "name": "stdout",
          "text": [
            "\n",
            "      Epoch    GPU_mem   box_loss   cls_loss   dfl_loss  Instances       Size\n"
          ]
        },
        {
          "output_type": "stream",
          "name": "stderr",
          "text": [
            "      52/60      8.55G     0.5649     0.5552     0.8429         14        640: 100%|██████████| 7/7 [00:04<00:00,  1.65it/s]\n",
            "                 Class     Images  Instances      Box(P          R      mAP50  mAP50-95): 100%|██████████| 1/1 [00:00<00:00,  1.54it/s]"
          ]
        },
        {
          "output_type": "stream",
          "name": "stdout",
          "text": [
            "                   all         49        216      0.984       0.99      0.995      0.872\n"
          ]
        },
        {
          "output_type": "stream",
          "name": "stderr",
          "text": [
            "\n"
          ]
        },
        {
          "output_type": "stream",
          "name": "stdout",
          "text": [
            "\n",
            "      Epoch    GPU_mem   box_loss   cls_loss   dfl_loss  Instances       Size\n"
          ]
        },
        {
          "output_type": "stream",
          "name": "stderr",
          "text": [
            "      53/60      8.52G     0.5635     0.5247     0.8436         34        640: 100%|██████████| 7/7 [00:05<00:00,  1.30it/s]\n",
            "                 Class     Images  Instances      Box(P          R      mAP50  mAP50-95): 100%|██████████| 1/1 [00:01<00:00,  1.06s/it]"
          ]
        },
        {
          "output_type": "stream",
          "name": "stdout",
          "text": [
            "                   all         49        216      0.983      0.976      0.995       0.87\n"
          ]
        },
        {
          "output_type": "stream",
          "name": "stderr",
          "text": [
            "\n"
          ]
        },
        {
          "output_type": "stream",
          "name": "stdout",
          "text": [
            "\n",
            "      Epoch    GPU_mem   box_loss   cls_loss   dfl_loss  Instances       Size\n"
          ]
        },
        {
          "output_type": "stream",
          "name": "stderr",
          "text": [
            "      54/60      8.54G     0.5312      0.512     0.8356         67        640: 100%|██████████| 7/7 [00:06<00:00,  1.14it/s]\n",
            "                 Class     Images  Instances      Box(P          R      mAP50  mAP50-95): 100%|██████████| 1/1 [00:00<00:00,  1.69it/s]"
          ]
        },
        {
          "output_type": "stream",
          "name": "stdout",
          "text": [
            "                   all         49        216      0.984       0.99      0.994      0.873\n"
          ]
        },
        {
          "output_type": "stream",
          "name": "stderr",
          "text": [
            "\n"
          ]
        },
        {
          "output_type": "stream",
          "name": "stdout",
          "text": [
            "\n",
            "      Epoch    GPU_mem   box_loss   cls_loss   dfl_loss  Instances       Size\n"
          ]
        },
        {
          "output_type": "stream",
          "name": "stderr",
          "text": [
            "      55/60       8.5G     0.5369     0.5033      0.843         38        640: 100%|██████████| 7/7 [00:04<00:00,  1.71it/s]\n",
            "                 Class     Images  Instances      Box(P          R      mAP50  mAP50-95): 100%|██████████| 1/1 [00:00<00:00,  1.65it/s]"
          ]
        },
        {
          "output_type": "stream",
          "name": "stdout",
          "text": [
            "                   all         49        216      0.987      0.996      0.995      0.873\n"
          ]
        },
        {
          "output_type": "stream",
          "name": "stderr",
          "text": [
            "\n"
          ]
        },
        {
          "output_type": "stream",
          "name": "stdout",
          "text": [
            "\n",
            "      Epoch    GPU_mem   box_loss   cls_loss   dfl_loss  Instances       Size\n"
          ]
        },
        {
          "output_type": "stream",
          "name": "stderr",
          "text": [
            "      56/60      8.61G     0.5607     0.5289     0.8409         10        640: 100%|██████████| 7/7 [00:05<00:00,  1.38it/s]\n",
            "                 Class     Images  Instances      Box(P          R      mAP50  mAP50-95): 100%|██████████| 1/1 [00:00<00:00,  1.20it/s]"
          ]
        },
        {
          "output_type": "stream",
          "name": "stdout",
          "text": [
            "                   all         49        216      0.983      0.989      0.995      0.871\n"
          ]
        },
        {
          "output_type": "stream",
          "name": "stderr",
          "text": [
            "\n"
          ]
        },
        {
          "output_type": "stream",
          "name": "stdout",
          "text": [
            "\n",
            "      Epoch    GPU_mem   box_loss   cls_loss   dfl_loss  Instances       Size\n"
          ]
        },
        {
          "output_type": "stream",
          "name": "stderr",
          "text": [
            "      57/60      8.52G     0.5233     0.5013      0.827         23        640: 100%|██████████| 7/7 [00:04<00:00,  1.50it/s]\n",
            "                 Class     Images  Instances      Box(P          R      mAP50  mAP50-95): 100%|██████████| 1/1 [00:00<00:00,  1.29it/s]"
          ]
        },
        {
          "output_type": "stream",
          "name": "stdout",
          "text": [
            "                   all         49        216      0.981      0.991      0.995      0.875\n"
          ]
        },
        {
          "output_type": "stream",
          "name": "stderr",
          "text": [
            "\n"
          ]
        },
        {
          "output_type": "stream",
          "name": "stdout",
          "text": [
            "\n",
            "      Epoch    GPU_mem   box_loss   cls_loss   dfl_loss  Instances       Size\n"
          ]
        },
        {
          "output_type": "stream",
          "name": "stderr",
          "text": [
            "      58/60      8.61G     0.5292     0.5279     0.8399         34        640: 100%|██████████| 7/7 [00:04<00:00,  1.62it/s]\n",
            "                 Class     Images  Instances      Box(P          R      mAP50  mAP50-95): 100%|██████████| 1/1 [00:00<00:00,  1.13it/s]"
          ]
        },
        {
          "output_type": "stream",
          "name": "stdout",
          "text": [
            "                   all         49        216       0.97      0.991      0.994      0.876\n"
          ]
        },
        {
          "output_type": "stream",
          "name": "stderr",
          "text": [
            "\n"
          ]
        },
        {
          "output_type": "stream",
          "name": "stdout",
          "text": [
            "\n",
            "      Epoch    GPU_mem   box_loss   cls_loss   dfl_loss  Instances       Size\n"
          ]
        },
        {
          "output_type": "stream",
          "name": "stderr",
          "text": [
            "      59/60      8.52G     0.5182     0.4863     0.8324         33        640: 100%|██████████| 7/7 [00:05<00:00,  1.17it/s]\n",
            "                 Class     Images  Instances      Box(P          R      mAP50  mAP50-95): 100%|██████████| 1/1 [00:01<00:00,  1.15s/it]"
          ]
        },
        {
          "output_type": "stream",
          "name": "stdout",
          "text": [
            "                   all         49        216      0.987      0.985      0.995      0.874\n"
          ]
        },
        {
          "output_type": "stream",
          "name": "stderr",
          "text": [
            "\n"
          ]
        },
        {
          "output_type": "stream",
          "name": "stdout",
          "text": [
            "\n",
            "      Epoch    GPU_mem   box_loss   cls_loss   dfl_loss  Instances       Size\n"
          ]
        },
        {
          "output_type": "stream",
          "name": "stderr",
          "text": [
            "      60/60      8.52G     0.5127     0.5082     0.8426          8        640: 100%|██████████| 7/7 [00:04<00:00,  1.54it/s]\n",
            "                 Class     Images  Instances      Box(P          R      mAP50  mAP50-95): 100%|██████████| 1/1 [00:00<00:00,  1.66it/s]"
          ]
        },
        {
          "output_type": "stream",
          "name": "stdout",
          "text": [
            "                   all         49        216      0.987      0.985      0.994      0.873\n"
          ]
        },
        {
          "output_type": "stream",
          "name": "stderr",
          "text": [
            "\n"
          ]
        },
        {
          "output_type": "stream",
          "name": "stdout",
          "text": [
            "\n",
            "60 epochs completed in 0.145 hours.\n",
            "Optimizer stripped from runs/detect/train32/weights/last.pt, 6.3MB\n",
            "Optimizer stripped from runs/detect/train32/weights/best.pt, 6.3MB\n",
            "\n",
            "Validating runs/detect/train32/weights/best.pt...\n",
            "Ultralytics 8.3.40 🚀 Python-3.10.12 torch-2.5.1+cu121 CUDA:0 (Tesla T4, 15102MiB)\n",
            "Model summary (fused): 168 layers, 3,007,988 parameters, 0 gradients, 8.1 GFLOPs\n"
          ]
        },
        {
          "output_type": "stream",
          "name": "stderr",
          "text": [
            "                 Class     Images  Instances      Box(P          R      mAP50  mAP50-95): 100%|██████████| 1/1 [00:00<00:00,  2.54it/s]\n"
          ]
        },
        {
          "output_type": "stream",
          "name": "stdout",
          "text": [
            "                   all         49        216       0.97      0.991      0.994      0.876\n",
            "                     0          9         13      0.957          1      0.995       0.88\n",
            "                     1          8         26      0.992          1      0.995      0.859\n",
            "                    10         10         15          1      0.916      0.995      0.852\n",
            "                    11          9          9      0.937          1      0.995       0.88\n",
            "                     2          9         16          1      0.986      0.995      0.841\n",
            "                     3          8         14      0.942          1      0.995      0.887\n",
            "                     4         12         18      0.899          1      0.987      0.856\n",
            "                     5         15         22      0.982          1      0.995      0.928\n",
            "                     6         13         43          1      0.993      0.995      0.874\n",
            "                     7         11         11       0.96          1      0.995      0.889\n",
            "                     8          8         12      0.993          1      0.995      0.907\n",
            "                     9          9         17      0.979          1      0.995      0.866\n",
            "Speed: 0.3ms preprocess, 2.2ms inference, 0.0ms loss, 0.9ms postprocess per image\n",
            "Results saved to \u001b[1mruns/detect/train32\u001b[0m\n"
          ]
        }
      ]
    },
    {
      "cell_type": "code",
      "source": [
        "save_res_path = input(\"Enter folder name for saved logs: \")\n",
        "save_folder_to_drive(\"/content/runs/detect\", f\"/content/drive/MyDrive/Digital Imaging/result/{save_res_path}\")"
      ],
      "metadata": {
        "colab": {
          "base_uri": "https://localhost:8080/",
          "height": 70
        },
        "id": "g9WxrDyQ5mvn",
        "outputId": "165a76e4-8784-482d-e571-f9e467861818"
      },
      "execution_count": 29,
      "outputs": [
        {
          "name": "stdout",
          "output_type": "stream",
          "text": [
            "Enter folder name for saved logs: 9-dec\n"
          ]
        },
        {
          "output_type": "execute_result",
          "data": {
            "text/plain": [
              "'Folder successfully saved to /content/drive/MyDrive/Digital Imaging/result/9-dec/detect'"
            ],
            "application/vnd.google.colaboratory.intrinsic+json": {
              "type": "string"
            }
          },
          "metadata": {},
          "execution_count": 29
        }
      ]
    },
    {
      "cell_type": "markdown",
      "source": [
        "## Test"
      ],
      "metadata": {
        "id": "_MEdlxKeteCR"
      }
    },
    {
      "cell_type": "markdown",
      "source": [
        "# Detect Piece Inference"
      ],
      "metadata": {
        "id": "gvpaDE7_tfiz"
      }
    },
    {
      "cell_type": "code",
      "source": [
        "results = []\n",
        "frames_classes = []\n",
        "frames_coors = []\n",
        "frames_confs = []\n",
        "\n",
        "for path in cropped_filenames:\n",
        "    img = cv2.imread(os.path.join(\"output/\", path))\n",
        "    res = model(img, verbose = False, conf = 0)[0]\n",
        "    classes_labels = np.array(res.boxes.cls.to(\"cpu\"), dtype=int)\n",
        "    locs = res.boxes.xyxy.to(\"cpu\").numpy()\n",
        "    confs = res.boxes.conf.to(\"cpu\").numpy()\n",
        "\n",
        "    results.append(res.to(\"cpu\"))\n",
        "    frames_classes.append(classes_labels)\n",
        "    frames_coors.append(locs)\n",
        "    frames_confs.append(confs)"
      ],
      "metadata": {
        "id": "8acLElvWtgMj"
      },
      "execution_count": 189,
      "outputs": []
    },
    {
      "cell_type": "markdown",
      "source": [
        "## Map infereneced result to coordinate"
      ],
      "metadata": {
        "id": "2XtaDUi3-K01"
      }
    },
    {
      "cell_type": "code",
      "source": [
        "assert len(frames_classes) == len(frames_corners)\n",
        "assert len(frames_coors) == len(frames_corners)\n",
        "assert len(frames_confs) == len(frames_corners)"
      ],
      "metadata": {
        "id": "8NnhQySa8t5O"
      },
      "execution_count": 93,
      "outputs": []
    },
    {
      "cell_type": "code",
      "source": [
        "label_to_piece_names = [\n",
        "    \"white-queen\",\n",
        "    \"white-pawn\",\n",
        "    \"black-rook\",\n",
        "    \"black-bishop\",\n",
        "    \"black-knight\",\n",
        "    \"black-queen\",\n",
        "    \"black-pawn\",\n",
        "    \"black-king\",\n",
        "    \"white-rook\",\n",
        "    \"white-bishop\",\n",
        "    \"white-knight\",\n",
        "    \"white-king\"\n",
        "]\n",
        "\n",
        "columns = [\"h\", \"g\", \"f\", \"e\", \"d\", \"c\", \"b\", \"a\"]\n",
        "rows = [i+1 for i in range(8)]"
      ],
      "metadata": {
        "id": "i-vnaBaNlDkT"
      },
      "execution_count": 175,
      "outputs": []
    },
    {
      "cell_type": "code",
      "source": [
        "encoded_frames = []\n",
        "\n",
        "for i in range(len(frames_corners)): # for each frame\n",
        "\n",
        "    board = [[\"None\" for _ in range(8)] for _ in range(8)]\n",
        "    piece_conf = [[None for _ in range(8)] for _ in range(8)]\n",
        "\n",
        "    corners = frames_corners[i]\n",
        "    classes = frames_classes[i]\n",
        "    locs = frames_coors[i]\n",
        "    confs = frames_confs[i]\n",
        "    filename = cropped_filenames[i]\n",
        "    # board_bgr = cv2.imread(f\"output/{filename}\")\n",
        "    # board = cv2.cvtColor(board_bgr, cv2.COLOR_BGR2RGB)\n",
        "\n",
        "    for (j, (cls, (x1, y1, x2, y2), conf)) in enumerate(zip(classes, locs, confs)): # for each piece found\n",
        "        x1, y1, x2, y2 = round(x1), round(y1), round(x2), round(y2)\n",
        "\n",
        "        x_mid = (x1 + x2) // 2\n",
        "        y_base = y2 - (y2 - y1) // 10\n",
        "        located = False\n",
        "        # print(f\"(x,y) = ({x_mid}, {y_base})\")\n",
        "\n",
        "        for row in range(8):\n",
        "            if (located):\n",
        "                break\n",
        "            for col in range(8):\n",
        "                if (located):\n",
        "                    break\n",
        "                x_l, y_t, x_r, y_b = corners[row][col]\n",
        "\n",
        "                assert(x_l < x_r)\n",
        "                assert(y_t < y_b)\n",
        "\n",
        "                if ((x_l <= x_mid <= x_r) and (y_t <= y_base <= y_b)):\n",
        "                    # print(f\"Found {label_to_piece_names[cls]} at {columns[col]}{rows[row]} with conf: {conf:.4f}\")\n",
        "                    if (piece_conf[row][col] is None and conf > 0.6):\n",
        "                        piece_conf[row][col] = conf\n",
        "                        board[row][col] = label_to_piece_names[int(results[0].names[cls])]\n",
        "                        located = True\n",
        "\n",
        "    encoded_frames.append(board)"
      ],
      "metadata": {
        "id": "OrJOoCBJ-U6o"
      },
      "execution_count": 206,
      "outputs": []
    },
    {
      "cell_type": "markdown",
      "source": [
        "# Decode board to PGN"
      ],
      "metadata": {
        "id": "72gmzbaeDWxl"
      }
    },
    {
      "cell_type": "code",
      "source": [],
      "metadata": {
        "id": "QOEMp6FUDPVy"
      },
      "execution_count": null,
      "outputs": []
    }
  ]
}